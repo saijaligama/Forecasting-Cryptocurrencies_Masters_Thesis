{
 "cells": [
  {
   "cell_type": "code",
   "execution_count": 1,
   "metadata": {
    "id": "UON9fcdSXRHB"
   },
   "outputs": [
    {
     "name": "stdout",
     "output_type": "stream",
     "text": [
      "ETHUSD\n",
      "LTCUSD\n",
      "BTCUSD\n"
     ]
    },
    {
     "data": {
      "image/png": "[encoded data removed]",
      "text/plain": [
       "<Figure size 432x288 with 1 Axes>"
      ]
     },
     "metadata": {
      "needs_background": "light"
     },
     "output_type": "display_data"
    }
   ],
   "source": [
    "import pandas as pd\n",
    "import matplotlib.pyplot as plt\n",
    "import numpy as np\n",
    "import os\n",
    "%matplotlib inline\n",
    "\n",
    "df = pd.read_excel('btc_eth_ltc.xlsx', index_col=1)\n",
    "\n",
    "df = df.sort_values('Date')\n",
    "df\n",
    "\n",
    "df['Symbol'].unique()\n",
    "\n",
    "df.groupby('Symbol')['Unix Timestamp'].nunique()\n",
    "\n",
    "plt.title('Number of samples per coin')\n",
    "plt.bar(df['Symbol'].unique(),df.groupby('Symbol')['Unix Timestamp'].nunique())\n",
    "\n",
    "#Split dataframes\n",
    "list_df = {}\n",
    "for name in df['Symbol'].unique():\n",
    "    print(name)\n",
    "    list_df.update({name:df[df.Symbol==name]})\n",
    "\n",
    "ltc_df = list_df.get('LTCUSD')\n",
    "btc_df = list_df.get('BTCUSD')\n",
    "eth_df = list_df.get('ETHUSD')\n",
    "\n",
    "\n",
    "ltc_df\n",
    "\n",
    "# ltc_df['Close'].plot()\n",
    "\n",
    "prophet_df=pd.DataFrame()\n",
    "prophet_df['y'] = ltc_df['Close']\n",
    "prophet_df['ds'] = ltc_df.index\n",
    "prophet_df.reset_index(drop=True, inplace=True)"
   ]
  },
  {
   "cell_type": "code",
   "execution_count": 2,
   "metadata": {
    "colab": {
     "base_uri": "https://localhost:8080/",
     "height": 423
    },
    "id": "GG0llmX_6p2k",
    "outputId": "203e0571-ca91-4b13-b0c3-488e352ef622"
   },
   "outputs": [
    {
     "data": {
      "text/html": [
       "<div>\n",
       "<style scoped>\n",
       "    .dataframe tbody tr th:only-of-type {\n",
       "        vertical-align: middle;\n",
       "    }\n",
       "\n",
       "    .dataframe tbody tr th {\n",
       "        vertical-align: top;\n",
       "    }\n",
       "\n",
       "    .dataframe thead th {\n",
       "        text-align: right;\n",
       "    }\n",
       "</style>\n",
       "<table border=\"1\" class=\"dataframe\">\n",
       "  <thead>\n",
       "    <tr style=\"text-align: right;\">\n",
       "      <th></th>\n",
       "      <th>y</th>\n",
       "      <th>ds</th>\n",
       "    </tr>\n",
       "  </thead>\n",
       "  <tbody>\n",
       "    <tr>\n",
       "      <th>0</th>\n",
       "      <td>52.92</td>\n",
       "      <td>2018-10-16 04:00:00</td>\n",
       "    </tr>\n",
       "    <tr>\n",
       "      <th>1</th>\n",
       "      <td>53.52</td>\n",
       "      <td>2018-10-17 04:00:00</td>\n",
       "    </tr>\n",
       "    <tr>\n",
       "      <th>2</th>\n",
       "      <td>51.88</td>\n",
       "      <td>2018-10-18 04:00:00</td>\n",
       "    </tr>\n",
       "    <tr>\n",
       "      <th>3</th>\n",
       "      <td>51.88</td>\n",
       "      <td>2018-10-19 04:00:00</td>\n",
       "    </tr>\n",
       "    <tr>\n",
       "      <th>4</th>\n",
       "      <td>52.75</td>\n",
       "      <td>2018-10-20 04:00:00</td>\n",
       "    </tr>\n",
       "    <tr>\n",
       "      <th>...</th>\n",
       "      <td>...</td>\n",
       "      <td>...</td>\n",
       "    </tr>\n",
       "    <tr>\n",
       "      <th>1068</th>\n",
       "      <td>179.44</td>\n",
       "      <td>2021-09-18 04:00:00</td>\n",
       "    </tr>\n",
       "    <tr>\n",
       "      <th>1069</th>\n",
       "      <td>167.01</td>\n",
       "      <td>2021-09-19 04:00:00</td>\n",
       "    </tr>\n",
       "    <tr>\n",
       "      <th>1070</th>\n",
       "      <td>159.47</td>\n",
       "      <td>2021-09-20 04:00:00</td>\n",
       "    </tr>\n",
       "    <tr>\n",
       "      <th>1071</th>\n",
       "      <td>151.48</td>\n",
       "      <td>2021-09-21 04:00:00</td>\n",
       "    </tr>\n",
       "    <tr>\n",
       "      <th>1072</th>\n",
       "      <td>160.38</td>\n",
       "      <td>2021-09-22 04:00:00</td>\n",
       "    </tr>\n",
       "  </tbody>\n",
       "</table>\n",
       "<p>1073 rows × 2 columns</p>\n",
       "</div>"
      ],
      "text/plain": [
       "           y                  ds\n",
       "0      52.92 2018-10-16 04:00:00\n",
       "1      53.52 2018-10-17 04:00:00\n",
       "2      51.88 2018-10-18 04:00:00\n",
       "3      51.88 2018-10-19 04:00:00\n",
       "4      52.75 2018-10-20 04:00:00\n",
       "...      ...                 ...\n",
       "1068  179.44 2021-09-18 04:00:00\n",
       "1069  167.01 2021-09-19 04:00:00\n",
       "1070  159.47 2021-09-20 04:00:00\n",
       "1071  151.48 2021-09-21 04:00:00\n",
       "1072  160.38 2021-09-22 04:00:00\n",
       "\n",
       "[1073 rows x 2 columns]"
      ]
     },
     "execution_count": 2,
     "metadata": {},
     "output_type": "execute_result"
    }
   ],
   "source": [
    "prophet_df"
   ]
  },
  {
   "cell_type": "code",
   "execution_count": 1,
   "metadata": {},
   "outputs": [
    {
     "name": "stdout",
     "output_type": "stream",
     "text": [
      "Collecting plotly\n",
      "  Downloading plotly-5.6.0-py2.py3-none-any.whl (27.7 MB)\n",
      "Collecting tenacity>=6.2.0\n",
      "  Downloading tenacity-8.0.1-py3-none-any.whl (24 kB)\n",
      "Requirement already satisfied, skipping upgrade: six in c:\\users\\saija\\anaconda3\\lib\\site-packages (from plotly) (1.15.0)\n",
      "Installing collected packages: tenacity, plotly\n",
      "Successfully installed plotly-5.6.0 tenacity-8.0.1\n",
      "Note: you may need to restart the kernel to use updated packages.\n"
     ]
    }
   ],
   "source": [
    "import pandas as pd\n",
    "import matplotlib.pyplot as plt\n",
    "import numpy as np\n",
    "import os\n",
    "%matplotlib inline\n",
    "\n",
    "df = pd.read_excel('btc_eth_ltc.xlsx', index_col=1)\n",
    "\n",
    "df = df.sort_values('Date')\n",
    "df\n",
    "\n",
    "df['Symbol'].unique()\n",
    "\n",
    "df.groupby('Symbol')['Unix Timestamp'].nunique()\n",
    "\n",
    "plt.title('Number of samples per coin')\n",
    "plt.bar(df['Symbol'].unique(),df.groupby('Symbol')['Unix Timestamp'].nunique())\n",
    "\n",
    "#Split dataframes\n",
    "list_df = {}\n",
    "for name in df['Symbol'].unique():\n",
    "    print(name)\n",
    "    list_df.update({name:df[df.Symbol==name]})\n",
    "\n",
    "ltc_df = list_df.get('LTCUSD')\n",
    "btc_df = list_df.get('BTCUSD')\n",
    "eth_df = list_df.get('ETHUSD')\n",
    "\n",
    "\n",
    "ltc_df\n",
    "\n",
    "# ltc_df['Close'].plot()\n",
    "\n",
    "prophet_df=pd.DataFrame()\n",
    "prophet_df['y'] = ltc_df['Close']\n",
    "prophet_df['ds'] = ltc_df.index\n",
    "prophet_df.reset_index(drop=True, inplace=True)"
   ]
  },
  {
   "cell_type": "code",
   "execution_count": 13,
   "metadata": {},
   "outputs": [],
   "source": [
    "train,test = prophet_df[:900],prophet_df[900:]"
   ]
  },
  {
   "cell_type": "code",
   "execution_count": 14,
   "metadata": {
    "colab": {
     "base_uri": "https://localhost:8080/"
    },
    "id": "lfzt8uoI8C4t",
    "outputId": "e323d3f1-f2a8-498b-d122-294b26dc24cc"
   },
   "outputs": [
    {
     "name": "stderr",
     "output_type": "stream",
     "text": [
      "INFO:fbprophet:Disabling daily seasonality. Run prophet with daily_seasonality=True to override this.\n",
      "C:\\Users\\saija\\anaconda3\\lib\\site-packages\\fbprophet\\forecaster.py:891: FutureWarning: The frame.append method is deprecated and will be removed from pandas in a future version. Use pandas.concat instead.\n",
      "  components = components.append(new_comp)\n",
      "WARNING:fbprophet.models:Optimization terminated abnormally. Falling back to Newton.\n",
      "INFO:fbprophet:Making 34 forecasts with cutoffs between 2019-10-25 04:00:00 and 2021-03-03 04:00:00\n",
      "INFO:fbprophet:Applying in parallel with <concurrent.futures.process.ProcessPoolExecutor object at 0x00000288C56B6F70>\n",
      "INFO:fbprophet:Disabling daily seasonality. Run prophet with daily_seasonality=True to override this.\n",
      "C:\\Users\\saija\\anaconda3\\lib\\site-packages\\fbprophet\\forecaster.py:891: FutureWarning: The frame.append method is deprecated and will be removed from pandas in a future version. Use pandas.concat instead.\n",
      "  components = components.append(new_comp)\n",
      "WARNING:fbprophet.models:Optimization terminated abnormally. Falling back to Newton.\n",
      "INFO:fbprophet:Making 34 forecasts with cutoffs between 2019-10-25 04:00:00 and 2021-03-03 04:00:00\n",
      "INFO:fbprophet:Applying in parallel with <concurrent.futures.process.ProcessPoolExecutor object at 0x00000288C8CE1D30>\n",
      "INFO:fbprophet:Disabling daily seasonality. Run prophet with daily_seasonality=True to override this.\n",
      "C:\\Users\\saija\\anaconda3\\lib\\site-packages\\fbprophet\\forecaster.py:891: FutureWarning: The frame.append method is deprecated and will be removed from pandas in a future version. Use pandas.concat instead.\n",
      "  components = components.append(new_comp)\n",
      "WARNING:fbprophet.models:Optimization terminated abnormally. Falling back to Newton.\n",
      "INFO:fbprophet:Making 34 forecasts with cutoffs between 2019-10-25 04:00:00 and 2021-03-03 04:00:00\n",
      "INFO:fbprophet:Applying in parallel with <concurrent.futures.process.ProcessPoolExecutor object at 0x00000288CD065190>\n",
      "INFO:fbprophet:Disabling daily seasonality. Run prophet with daily_seasonality=True to override this.\n",
      "C:\\Users\\saija\\anaconda3\\lib\\site-packages\\fbprophet\\forecaster.py:891: FutureWarning: The frame.append method is deprecated and will be removed from pandas in a future version. Use pandas.concat instead.\n",
      "  components = components.append(new_comp)\n",
      "WARNING:fbprophet.models:Optimization terminated abnormally. Falling back to Newton.\n",
      "INFO:fbprophet:Making 34 forecasts with cutoffs between 2019-10-25 04:00:00 and 2021-03-03 04:00:00\n",
      "INFO:fbprophet:Applying in parallel with <concurrent.futures.process.ProcessPoolExecutor object at 0x00000288CD044850>\n",
      "INFO:fbprophet:Disabling daily seasonality. Run prophet with daily_seasonality=True to override this.\n",
      "C:\\Users\\saija\\anaconda3\\lib\\site-packages\\fbprophet\\forecaster.py:891: FutureWarning: The frame.append method is deprecated and will be removed from pandas in a future version. Use pandas.concat instead.\n",
      "  components = components.append(new_comp)\n",
      "INFO:fbprophet:Making 34 forecasts with cutoffs between 2019-10-25 04:00:00 and 2021-03-03 04:00:00\n",
      "INFO:fbprophet:Applying in parallel with <concurrent.futures.process.ProcessPoolExecutor object at 0x00000288C8D91820>\n",
      "INFO:fbprophet:Disabling daily seasonality. Run prophet with daily_seasonality=True to override this.\n",
      "C:\\Users\\saija\\anaconda3\\lib\\site-packages\\fbprophet\\forecaster.py:891: FutureWarning: The frame.append method is deprecated and will be removed from pandas in a future version. Use pandas.concat instead.\n",
      "  components = components.append(new_comp)\n",
      "INFO:fbprophet:Making 34 forecasts with cutoffs between 2019-10-25 04:00:00 and 2021-03-03 04:00:00\n",
      "INFO:fbprophet:Applying in parallel with <concurrent.futures.process.ProcessPoolExecutor object at 0x00000288C56B6F70>\n",
      "INFO:fbprophet:Disabling daily seasonality. Run prophet with daily_seasonality=True to override this.\n",
      "C:\\Users\\saija\\anaconda3\\lib\\site-packages\\fbprophet\\forecaster.py:891: FutureWarning: The frame.append method is deprecated and will be removed from pandas in a future version. Use pandas.concat instead.\n",
      "  components = components.append(new_comp)\n",
      "INFO:fbprophet:Making 34 forecasts with cutoffs between 2019-10-25 04:00:00 and 2021-03-03 04:00:00\n",
      "INFO:fbprophet:Applying in parallel with <concurrent.futures.process.ProcessPoolExecutor object at 0x00000288C56B6F70>\n",
      "INFO:fbprophet:Disabling daily seasonality. Run prophet with daily_seasonality=True to override this.\n",
      "C:\\Users\\saija\\anaconda3\\lib\\site-packages\\fbprophet\\forecaster.py:891: FutureWarning: The frame.append method is deprecated and will be removed from pandas in a future version. Use pandas.concat instead.\n",
      "  components = components.append(new_comp)\n",
      "INFO:fbprophet:Making 34 forecasts with cutoffs between 2019-10-25 04:00:00 and 2021-03-03 04:00:00\n",
      "INFO:fbprophet:Applying in parallel with <concurrent.futures.process.ProcessPoolExecutor object at 0x00000288CE3BFE20>\n",
      "INFO:fbprophet:Disabling daily seasonality. Run prophet with daily_seasonality=True to override this.\n",
      "C:\\Users\\saija\\anaconda3\\lib\\site-packages\\fbprophet\\forecaster.py:891: FutureWarning: The frame.append method is deprecated and will be removed from pandas in a future version. Use pandas.concat instead.\n",
      "  components = components.append(new_comp)\n",
      "INFO:fbprophet:Making 34 forecasts with cutoffs between 2019-10-25 04:00:00 and 2021-03-03 04:00:00\n",
      "INFO:fbprophet:Applying in parallel with <concurrent.futures.process.ProcessPoolExecutor object at 0x00000288CC11ACD0>\n",
      "INFO:fbprophet:Disabling daily seasonality. Run prophet with daily_seasonality=True to override this.\n",
      "C:\\Users\\saija\\anaconda3\\lib\\site-packages\\fbprophet\\forecaster.py:891: FutureWarning: The frame.append method is deprecated and will be removed from pandas in a future version. Use pandas.concat instead.\n",
      "  components = components.append(new_comp)\n",
      "INFO:fbprophet:Making 34 forecasts with cutoffs between 2019-10-25 04:00:00 and 2021-03-03 04:00:00\n",
      "INFO:fbprophet:Applying in parallel with <concurrent.futures.process.ProcessPoolExecutor object at 0x00000288C56B02B0>\n",
      "INFO:fbprophet:Disabling daily seasonality. Run prophet with daily_seasonality=True to override this.\n",
      "C:\\Users\\saija\\anaconda3\\lib\\site-packages\\fbprophet\\forecaster.py:891: FutureWarning: The frame.append method is deprecated and will be removed from pandas in a future version. Use pandas.concat instead.\n",
      "  components = components.append(new_comp)\n",
      "INFO:fbprophet:Making 34 forecasts with cutoffs between 2019-10-25 04:00:00 and 2021-03-03 04:00:00\n",
      "INFO:fbprophet:Applying in parallel with <concurrent.futures.process.ProcessPoolExecutor object at 0x00000288C56B02B0>\n",
      "INFO:fbprophet:Disabling daily seasonality. Run prophet with daily_seasonality=True to override this.\n",
      "C:\\Users\\saija\\anaconda3\\lib\\site-packages\\fbprophet\\forecaster.py:891: FutureWarning: The frame.append method is deprecated and will be removed from pandas in a future version. Use pandas.concat instead.\n",
      "  components = components.append(new_comp)\n",
      "INFO:fbprophet:Making 34 forecasts with cutoffs between 2019-10-25 04:00:00 and 2021-03-03 04:00:00\n",
      "INFO:fbprophet:Applying in parallel with <concurrent.futures.process.ProcessPoolExecutor object at 0x00000288CD04AE80>\n",
      "INFO:fbprophet:Disabling daily seasonality. Run prophet with daily_seasonality=True to override this.\n",
      "C:\\Users\\saija\\anaconda3\\lib\\site-packages\\fbprophet\\forecaster.py:891: FutureWarning: The frame.append method is deprecated and will be removed from pandas in a future version. Use pandas.concat instead.\n",
      "  components = components.append(new_comp)\n",
      "INFO:fbprophet:Making 34 forecasts with cutoffs between 2019-10-25 04:00:00 and 2021-03-03 04:00:00\n",
      "INFO:fbprophet:Applying in parallel with <concurrent.futures.process.ProcessPoolExecutor object at 0x00000288CE296DF0>\n",
      "INFO:fbprophet:Disabling daily seasonality. Run prophet with daily_seasonality=True to override this.\n",
      "C:\\Users\\saija\\anaconda3\\lib\\site-packages\\fbprophet\\forecaster.py:891: FutureWarning: The frame.append method is deprecated and will be removed from pandas in a future version. Use pandas.concat instead.\n",
      "  components = components.append(new_comp)\n",
      "INFO:fbprophet:Making 34 forecasts with cutoffs between 2019-10-25 04:00:00 and 2021-03-03 04:00:00\n",
      "INFO:fbprophet:Applying in parallel with <concurrent.futures.process.ProcessPoolExecutor object at 0x00000288CD28F2E0>\n"
     ]
    },
    {
     "name": "stderr",
     "output_type": "stream",
     "text": [
      "INFO:fbprophet:Disabling daily seasonality. Run prophet with daily_seasonality=True to override this.\n",
      "C:\\Users\\saija\\anaconda3\\lib\\site-packages\\fbprophet\\forecaster.py:891: FutureWarning: The frame.append method is deprecated and will be removed from pandas in a future version. Use pandas.concat instead.\n",
      "  components = components.append(new_comp)\n",
      "INFO:fbprophet:Making 34 forecasts with cutoffs between 2019-10-25 04:00:00 and 2021-03-03 04:00:00\n",
      "INFO:fbprophet:Applying in parallel with <concurrent.futures.process.ProcessPoolExecutor object at 0x00000288CD296F70>\n",
      "INFO:fbprophet:Disabling daily seasonality. Run prophet with daily_seasonality=True to override this.\n",
      "C:\\Users\\saija\\anaconda3\\lib\\site-packages\\fbprophet\\forecaster.py:891: FutureWarning: The frame.append method is deprecated and will be removed from pandas in a future version. Use pandas.concat instead.\n",
      "  components = components.append(new_comp)\n",
      "INFO:fbprophet:Making 34 forecasts with cutoffs between 2019-10-25 04:00:00 and 2021-03-03 04:00:00\n",
      "INFO:fbprophet:Applying in parallel with <concurrent.futures.process.ProcessPoolExecutor object at 0x00000288C56B6F70>\n"
     ]
    },
    {
     "name": "stdout",
     "output_type": "stream",
     "text": [
      "    changepoint_prior_scale  seasonality_prior_scale       rmse\n",
      "0                     0.001                     0.01  53.223644\n",
      "1                     0.001                     0.10  58.667990\n",
      "2                     0.001                     1.00  58.863877\n",
      "3                     0.001                    10.00  58.809174\n",
      "4                     0.010                     0.01  41.149093\n",
      "5                     0.010                     0.10  46.358995\n",
      "6                     0.010                     1.00  45.964641\n",
      "7                     0.010                    10.00  46.180657\n",
      "8                     0.100                     0.01  22.474779\n",
      "9                     0.100                     0.10  24.707184\n",
      "10                    0.100                     1.00  24.741467\n",
      "11                    0.100                    10.00  24.705361\n",
      "12                    0.500                     0.01  20.149916\n",
      "13                    0.500                     0.10  23.672142\n",
      "14                    0.500                     1.00  23.932549\n",
      "15                    0.500                    10.00  23.917261\n"
     ]
    }
   ],
   "source": [
    "import itertools\n",
    "import numpy as np\n",
    "import pandas as pd\n",
    "from fbprophet import Prophet\n",
    "from fbprophet.diagnostics import cross_validation\n",
    "from fbprophet.diagnostics import performance_metrics\n",
    "\n",
    "param_grid = {  \n",
    "    'changepoint_prior_scale': [0.001, 0.01, 0.1, 0.5],\n",
    "    'seasonality_prior_scale': [0.01, 0.1, 1.0, 10.0],\n",
    "}\n",
    "\n",
    "# Generate all combinations of parameters\n",
    "all_params = [dict(zip(param_grid.keys(), v)) for v in itertools.product(*param_grid.values())]\n",
    "rmses = []  # Store the RMSEs for each params here\n",
    "\n",
    "# Use cross validation to evaluate all parameters\n",
    "for params in all_params:\n",
    "    m = Prophet(**params).fit(train)  # Fit model with given params\n",
    "    df_cv = cross_validation(m, cutoffs=None, horizon='30 days', parallel=\"processes\")\n",
    "    df_p = performance_metrics(df_cv, rolling_window=1)\n",
    "    rmses.append(df_p['rmse'].values[0])\n",
    "\n",
    "# Find the best parameters\n",
    "tuning_results = pd.DataFrame(all_params)\n",
    "tuning_results['rmse'] = rmses\n",
    "print(tuning_results)"
   ]
  },
  {
   "cell_type": "code",
   "execution_count": 24,
   "metadata": {},
   "outputs": [
    {
     "data": {
      "text/html": [
       "<div>\n",
       "<style scoped>\n",
       "    .dataframe tbody tr th:only-of-type {\n",
       "        vertical-align: middle;\n",
       "    }\n",
       "\n",
       "    .dataframe tbody tr th {\n",
       "        vertical-align: top;\n",
       "    }\n",
       "\n",
       "    .dataframe thead th {\n",
       "        text-align: right;\n",
       "    }\n",
       "</style>\n",
       "<table border=\"1\" class=\"dataframe\">\n",
       "  <thead>\n",
       "    <tr style=\"text-align: right;\">\n",
       "      <th></th>\n",
       "      <th>horizon</th>\n",
       "      <th>mse</th>\n",
       "      <th>rmse</th>\n",
       "      <th>mae</th>\n",
       "      <th>mape</th>\n",
       "      <th>mdape</th>\n",
       "      <th>coverage</th>\n",
       "    </tr>\n",
       "  </thead>\n",
       "  <tbody>\n",
       "    <tr>\n",
       "      <th>0</th>\n",
       "      <td>30 days</td>\n",
       "      <td>572.035365</td>\n",
       "      <td>23.917261</td>\n",
       "      <td>17.468014</td>\n",
       "      <td>0.286958</td>\n",
       "      <td>0.190892</td>\n",
       "      <td>0.306863</td>\n",
       "    </tr>\n",
       "  </tbody>\n",
       "</table>\n",
       "</div>"
      ],
      "text/plain": [
       "  horizon         mse       rmse        mae      mape     mdape  coverage\n",
       "0 30 days  572.035365  23.917261  17.468014  0.286958  0.190892  0.306863"
      ]
     },
     "execution_count": 24,
     "metadata": {},
     "output_type": "execute_result"
    }
   ],
   "source": [
    "df_p"
   ]
  },
  {
   "cell_type": "code",
   "execution_count": 15,
   "metadata": {},
   "outputs": [
    {
     "data": {
      "text/html": [
       "<div>\n",
       "<style scoped>\n",
       "    .dataframe tbody tr th:only-of-type {\n",
       "        vertical-align: middle;\n",
       "    }\n",
       "\n",
       "    .dataframe tbody tr th {\n",
       "        vertical-align: top;\n",
       "    }\n",
       "\n",
       "    .dataframe thead th {\n",
       "        text-align: right;\n",
       "    }\n",
       "</style>\n",
       "<table border=\"1\" class=\"dataframe\">\n",
       "  <thead>\n",
       "    <tr style=\"text-align: right;\">\n",
       "      <th></th>\n",
       "      <th>changepoint_prior_scale</th>\n",
       "      <th>seasonality_prior_scale</th>\n",
       "      <th>rmse</th>\n",
       "    </tr>\n",
       "  </thead>\n",
       "  <tbody>\n",
       "    <tr>\n",
       "      <th>0</th>\n",
       "      <td>0.001</td>\n",
       "      <td>0.01</td>\n",
       "      <td>53.223644</td>\n",
       "    </tr>\n",
       "    <tr>\n",
       "      <th>1</th>\n",
       "      <td>0.001</td>\n",
       "      <td>0.10</td>\n",
       "      <td>58.667990</td>\n",
       "    </tr>\n",
       "    <tr>\n",
       "      <th>2</th>\n",
       "      <td>0.001</td>\n",
       "      <td>1.00</td>\n",
       "      <td>58.863877</td>\n",
       "    </tr>\n",
       "    <tr>\n",
       "      <th>3</th>\n",
       "      <td>0.001</td>\n",
       "      <td>10.00</td>\n",
       "      <td>58.809174</td>\n",
       "    </tr>\n",
       "    <tr>\n",
       "      <th>4</th>\n",
       "      <td>0.010</td>\n",
       "      <td>0.01</td>\n",
       "      <td>41.149093</td>\n",
       "    </tr>\n",
       "    <tr>\n",
       "      <th>5</th>\n",
       "      <td>0.010</td>\n",
       "      <td>0.10</td>\n",
       "      <td>46.358995</td>\n",
       "    </tr>\n",
       "    <tr>\n",
       "      <th>6</th>\n",
       "      <td>0.010</td>\n",
       "      <td>1.00</td>\n",
       "      <td>45.964641</td>\n",
       "    </tr>\n",
       "    <tr>\n",
       "      <th>7</th>\n",
       "      <td>0.010</td>\n",
       "      <td>10.00</td>\n",
       "      <td>46.180657</td>\n",
       "    </tr>\n",
       "    <tr>\n",
       "      <th>8</th>\n",
       "      <td>0.100</td>\n",
       "      <td>0.01</td>\n",
       "      <td>22.474779</td>\n",
       "    </tr>\n",
       "    <tr>\n",
       "      <th>9</th>\n",
       "      <td>0.100</td>\n",
       "      <td>0.10</td>\n",
       "      <td>24.707184</td>\n",
       "    </tr>\n",
       "    <tr>\n",
       "      <th>10</th>\n",
       "      <td>0.100</td>\n",
       "      <td>1.00</td>\n",
       "      <td>24.741467</td>\n",
       "    </tr>\n",
       "    <tr>\n",
       "      <th>11</th>\n",
       "      <td>0.100</td>\n",
       "      <td>10.00</td>\n",
       "      <td>24.705361</td>\n",
       "    </tr>\n",
       "    <tr>\n",
       "      <th>12</th>\n",
       "      <td>0.500</td>\n",
       "      <td>0.01</td>\n",
       "      <td>20.149916</td>\n",
       "    </tr>\n",
       "    <tr>\n",
       "      <th>13</th>\n",
       "      <td>0.500</td>\n",
       "      <td>0.10</td>\n",
       "      <td>23.672142</td>\n",
       "    </tr>\n",
       "    <tr>\n",
       "      <th>14</th>\n",
       "      <td>0.500</td>\n",
       "      <td>1.00</td>\n",
       "      <td>23.932549</td>\n",
       "    </tr>\n",
       "    <tr>\n",
       "      <th>15</th>\n",
       "      <td>0.500</td>\n",
       "      <td>10.00</td>\n",
       "      <td>23.917261</td>\n",
       "    </tr>\n",
       "  </tbody>\n",
       "</table>\n",
       "</div>"
      ],
      "text/plain": [
       "    changepoint_prior_scale  seasonality_prior_scale       rmse\n",
       "0                     0.001                     0.01  53.223644\n",
       "1                     0.001                     0.10  58.667990\n",
       "2                     0.001                     1.00  58.863877\n",
       "3                     0.001                    10.00  58.809174\n",
       "4                     0.010                     0.01  41.149093\n",
       "5                     0.010                     0.10  46.358995\n",
       "6                     0.010                     1.00  45.964641\n",
       "7                     0.010                    10.00  46.180657\n",
       "8                     0.100                     0.01  22.474779\n",
       "9                     0.100                     0.10  24.707184\n",
       "10                    0.100                     1.00  24.741467\n",
       "11                    0.100                    10.00  24.705361\n",
       "12                    0.500                     0.01  20.149916\n",
       "13                    0.500                     0.10  23.672142\n",
       "14                    0.500                     1.00  23.932549\n",
       "15                    0.500                    10.00  23.917261"
      ]
     },
     "execution_count": 15,
     "metadata": {},
     "output_type": "execute_result"
    }
   ],
   "source": [
    "tuning_results"
   ]
  },
  {
   "cell_type": "code",
   "execution_count": 16,
   "metadata": {
    "colab": {
     "base_uri": "https://localhost:8080/"
    },
    "id": "T8nfXU_KgXMG",
    "outputId": "ffa1332b-e0f2-42d7-b035-2c622095612c"
   },
   "outputs": [
    {
     "name": "stderr",
     "output_type": "stream",
     "text": [
      "INFO:fbprophet:Disabling daily seasonality. Run prophet with daily_seasonality=True to override this.\n",
      "C:\\Users\\saija\\anaconda3\\lib\\site-packages\\fbprophet\\forecaster.py:891: FutureWarning: The frame.append method is deprecated and will be removed from pandas in a future version. Use pandas.concat instead.\n",
      "  components = components.append(new_comp)\n"
     ]
    },
    {
     "data": {
      "text/plain": [
       "<fbprophet.forecaster.Prophet at 0x288ce38bee0>"
      ]
     },
     "execution_count": 16,
     "metadata": {},
     "output_type": "execute_result"
    }
   ],
   "source": [
    "prophet = Prophet(changepoint_prior_scale = 0.500, seasonality_prior_scale= 0.01, seasonality_mode='multiplicative')\n",
    "prophet.fit(prophet_df)\n",
    "\n"
   ]
  },
  {
   "cell_type": "code",
   "execution_count": 17,
   "metadata": {
    "colab": {
     "base_uri": "https://localhost:8080/",
     "height": 206
    },
    "id": "XmNuurZq6Lki",
    "outputId": "f14695f4-03a5-4537-9bab-fb7383985c36"
   },
   "outputs": [
    {
     "data": {
      "text/html": [
       "<div>\n",
       "<style scoped>\n",
       "    .dataframe tbody tr th:only-of-type {\n",
       "        vertical-align: middle;\n",
       "    }\n",
       "\n",
       "    .dataframe tbody tr th {\n",
       "        vertical-align: top;\n",
       "    }\n",
       "\n",
       "    .dataframe thead th {\n",
       "        text-align: right;\n",
       "    }\n",
       "</style>\n",
       "<table border=\"1\" class=\"dataframe\">\n",
       "  <thead>\n",
       "    <tr style=\"text-align: right;\">\n",
       "      <th></th>\n",
       "      <th>ds</th>\n",
       "    </tr>\n",
       "  </thead>\n",
       "  <tbody>\n",
       "    <tr>\n",
       "      <th>1241</th>\n",
       "      <td>2022-03-10 04:00:00</td>\n",
       "    </tr>\n",
       "    <tr>\n",
       "      <th>1242</th>\n",
       "      <td>2022-03-11 04:00:00</td>\n",
       "    </tr>\n",
       "    <tr>\n",
       "      <th>1243</th>\n",
       "      <td>2022-03-12 04:00:00</td>\n",
       "    </tr>\n",
       "    <tr>\n",
       "      <th>1244</th>\n",
       "      <td>2022-03-13 04:00:00</td>\n",
       "    </tr>\n",
       "    <tr>\n",
       "      <th>1245</th>\n",
       "      <td>2022-03-14 04:00:00</td>\n",
       "    </tr>\n",
       "  </tbody>\n",
       "</table>\n",
       "</div>"
      ],
      "text/plain": [
       "                      ds\n",
       "1241 2022-03-10 04:00:00\n",
       "1242 2022-03-11 04:00:00\n",
       "1243 2022-03-12 04:00:00\n",
       "1244 2022-03-13 04:00:00\n",
       "1245 2022-03-14 04:00:00"
      ]
     },
     "execution_count": 17,
     "metadata": {},
     "output_type": "execute_result"
    }
   ],
   "source": [
    "future = prophet.make_future_dataframe(periods=len(prophet_df[900:]))\n",
    "future.tail()"
   ]
  },
  {
   "cell_type": "code",
   "execution_count": 18,
   "metadata": {
    "colab": {
     "base_uri": "https://localhost:8080/",
     "height": 269
    },
    "id": "2xq4kVs07HgN",
    "outputId": "09fe6bff-419b-45b7-ab39-0e337de3f105"
   },
   "outputs": [
    {
     "name": "stderr",
     "output_type": "stream",
     "text": [
      "C:\\Users\\saija\\anaconda3\\lib\\site-packages\\fbprophet\\forecaster.py:891: FutureWarning: The frame.append method is deprecated and will be removed from pandas in a future version. Use pandas.concat instead.\n",
      "  components = components.append(new_comp)\n",
      "C:\\Users\\saija\\anaconda3\\lib\\site-packages\\fbprophet\\forecaster.py:891: FutureWarning: The frame.append method is deprecated and will be removed from pandas in a future version. Use pandas.concat instead.\n",
      "  components = components.append(new_comp)\n"
     ]
    },
    {
     "data": {
      "text/html": [
       "<div>\n",
       "<style scoped>\n",
       "    .dataframe tbody tr th:only-of-type {\n",
       "        vertical-align: middle;\n",
       "    }\n",
       "\n",
       "    .dataframe tbody tr th {\n",
       "        vertical-align: top;\n",
       "    }\n",
       "\n",
       "    .dataframe thead th {\n",
       "        text-align: right;\n",
       "    }\n",
       "</style>\n",
       "<table border=\"1\" class=\"dataframe\">\n",
       "  <thead>\n",
       "    <tr style=\"text-align: right;\">\n",
       "      <th></th>\n",
       "      <th>ds</th>\n",
       "      <th>yhat</th>\n",
       "      <th>yhat_lower</th>\n",
       "      <th>yhat_upper</th>\n",
       "    </tr>\n",
       "  </thead>\n",
       "  <tbody>\n",
       "    <tr>\n",
       "      <th>1239</th>\n",
       "      <td>2022-03-08 04:00:00</td>\n",
       "      <td>97.791040</td>\n",
       "      <td>-135.869589</td>\n",
       "      <td>323.163897</td>\n",
       "    </tr>\n",
       "    <tr>\n",
       "      <th>1240</th>\n",
       "      <td>2022-03-09 04:00:00</td>\n",
       "      <td>96.065855</td>\n",
       "      <td>-130.653516</td>\n",
       "      <td>321.962794</td>\n",
       "    </tr>\n",
       "    <tr>\n",
       "      <th>1241</th>\n",
       "      <td>2022-03-10 04:00:00</td>\n",
       "      <td>95.464133</td>\n",
       "      <td>-135.833393</td>\n",
       "      <td>317.487797</td>\n",
       "    </tr>\n",
       "    <tr>\n",
       "      <th>1242</th>\n",
       "      <td>2022-03-11 04:00:00</td>\n",
       "      <td>96.700089</td>\n",
       "      <td>-138.401177</td>\n",
       "      <td>327.147714</td>\n",
       "    </tr>\n",
       "    <tr>\n",
       "      <th>1243</th>\n",
       "      <td>2022-03-12 04:00:00</td>\n",
       "      <td>95.624331</td>\n",
       "      <td>-139.488178</td>\n",
       "      <td>331.864036</td>\n",
       "    </tr>\n",
       "    <tr>\n",
       "      <th>1244</th>\n",
       "      <td>2022-03-13 04:00:00</td>\n",
       "      <td>95.592521</td>\n",
       "      <td>-145.679786</td>\n",
       "      <td>331.602918</td>\n",
       "    </tr>\n",
       "    <tr>\n",
       "      <th>1245</th>\n",
       "      <td>2022-03-14 04:00:00</td>\n",
       "      <td>95.207193</td>\n",
       "      <td>-147.385518</td>\n",
       "      <td>326.326148</td>\n",
       "    </tr>\n",
       "  </tbody>\n",
       "</table>\n",
       "</div>"
      ],
      "text/plain": [
       "                      ds       yhat  yhat_lower  yhat_upper\n",
       "1239 2022-03-08 04:00:00  97.791040 -135.869589  323.163897\n",
       "1240 2022-03-09 04:00:00  96.065855 -130.653516  321.962794\n",
       "1241 2022-03-10 04:00:00  95.464133 -135.833393  317.487797\n",
       "1242 2022-03-11 04:00:00  96.700089 -138.401177  327.147714\n",
       "1243 2022-03-12 04:00:00  95.624331 -139.488178  331.864036\n",
       "1244 2022-03-13 04:00:00  95.592521 -145.679786  331.602918\n",
       "1245 2022-03-14 04:00:00  95.207193 -147.385518  326.326148"
      ]
     },
     "execution_count": 18,
     "metadata": {},
     "output_type": "execute_result"
    }
   ],
   "source": [
    "forecast = prophet.predict(future)\n",
    "forecast[['ds', 'yhat', 'yhat_lower', 'yhat_upper']].tail(7)"
   ]
  },
  {
   "cell_type": "code",
   "execution_count": 22,
   "metadata": {},
   "outputs": [
    {
     "data": {
      "text/html": [
       "<div>\n",
       "<style scoped>\n",
       "    .dataframe tbody tr th:only-of-type {\n",
       "        vertical-align: middle;\n",
       "    }\n",
       "\n",
       "    .dataframe tbody tr th {\n",
       "        vertical-align: top;\n",
       "    }\n",
       "\n",
       "    .dataframe thead th {\n",
       "        text-align: right;\n",
       "    }\n",
       "</style>\n",
       "<table border=\"1\" class=\"dataframe\">\n",
       "  <thead>\n",
       "    <tr style=\"text-align: right;\">\n",
       "      <th></th>\n",
       "      <th>ds</th>\n",
       "      <th>yhat</th>\n",
       "      <th>yhat_lower</th>\n",
       "      <th>yhat_upper</th>\n",
       "    </tr>\n",
       "  </thead>\n",
       "  <tbody>\n",
       "    <tr>\n",
       "      <th>0</th>\n",
       "      <td>2018-10-16 04:00:00</td>\n",
       "      <td>54.721602</td>\n",
       "      <td>39.285218</td>\n",
       "      <td>71.110211</td>\n",
       "    </tr>\n",
       "    <tr>\n",
       "      <th>1</th>\n",
       "      <td>2018-10-17 04:00:00</td>\n",
       "      <td>53.780008</td>\n",
       "      <td>38.412624</td>\n",
       "      <td>70.242389</td>\n",
       "    </tr>\n",
       "    <tr>\n",
       "      <th>2</th>\n",
       "      <td>2018-10-18 04:00:00</td>\n",
       "      <td>53.322117</td>\n",
       "      <td>37.046448</td>\n",
       "      <td>69.475666</td>\n",
       "    </tr>\n",
       "    <tr>\n",
       "      <th>3</th>\n",
       "      <td>2018-10-19 04:00:00</td>\n",
       "      <td>53.676560</td>\n",
       "      <td>37.296647</td>\n",
       "      <td>68.951849</td>\n",
       "    </tr>\n",
       "    <tr>\n",
       "      <th>4</th>\n",
       "      <td>2018-10-20 04:00:00</td>\n",
       "      <td>52.865802</td>\n",
       "      <td>36.597414</td>\n",
       "      <td>68.746433</td>\n",
       "    </tr>\n",
       "    <tr>\n",
       "      <th>5</th>\n",
       "      <td>2018-10-21 04:00:00</td>\n",
       "      <td>52.488395</td>\n",
       "      <td>36.731660</td>\n",
       "      <td>69.211533</td>\n",
       "    </tr>\n",
       "    <tr>\n",
       "      <th>6</th>\n",
       "      <td>2018-10-22 04:00:00</td>\n",
       "      <td>51.885795</td>\n",
       "      <td>35.775553</td>\n",
       "      <td>67.683681</td>\n",
       "    </tr>\n",
       "  </tbody>\n",
       "</table>\n",
       "</div>"
      ],
      "text/plain": [
       "                   ds       yhat  yhat_lower  yhat_upper\n",
       "0 2018-10-16 04:00:00  54.721602   39.285218   71.110211\n",
       "1 2018-10-17 04:00:00  53.780008   38.412624   70.242389\n",
       "2 2018-10-18 04:00:00  53.322117   37.046448   69.475666\n",
       "3 2018-10-19 04:00:00  53.676560   37.296647   68.951849\n",
       "4 2018-10-20 04:00:00  52.865802   36.597414   68.746433\n",
       "5 2018-10-21 04:00:00  52.488395   36.731660   69.211533\n",
       "6 2018-10-22 04:00:00  51.885795   35.775553   67.683681"
      ]
     },
     "execution_count": 22,
     "metadata": {},
     "output_type": "execute_result"
    }
   ],
   "source": [
    "forecast[['ds', 'yhat', 'yhat_lower', 'yhat_upper']].head(7)"
   ]
  },
  {
   "cell_type": "code",
   "execution_count": 23,
   "metadata": {},
   "outputs": [
    {
     "data": {
      "text/html": [
       "<div>\n",
       "<style scoped>\n",
       "    .dataframe tbody tr th:only-of-type {\n",
       "        vertical-align: middle;\n",
       "    }\n",
       "\n",
       "    .dataframe tbody tr th {\n",
       "        vertical-align: top;\n",
       "    }\n",
       "\n",
       "    .dataframe thead th {\n",
       "        text-align: right;\n",
       "    }\n",
       "</style>\n",
       "<table border=\"1\" class=\"dataframe\">\n",
       "  <thead>\n",
       "    <tr style=\"text-align: right;\">\n",
       "      <th></th>\n",
       "      <th>ds</th>\n",
       "      <th>trend</th>\n",
       "      <th>yhat_lower</th>\n",
       "      <th>yhat_upper</th>\n",
       "      <th>trend_lower</th>\n",
       "      <th>trend_upper</th>\n",
       "      <th>multiplicative_terms</th>\n",
       "      <th>multiplicative_terms_lower</th>\n",
       "      <th>multiplicative_terms_upper</th>\n",
       "      <th>weekly</th>\n",
       "      <th>weekly_lower</th>\n",
       "      <th>weekly_upper</th>\n",
       "      <th>yearly</th>\n",
       "      <th>yearly_lower</th>\n",
       "      <th>yearly_upper</th>\n",
       "      <th>additive_terms</th>\n",
       "      <th>additive_terms_lower</th>\n",
       "      <th>additive_terms_upper</th>\n",
       "      <th>yhat</th>\n",
       "    </tr>\n",
       "  </thead>\n",
       "  <tbody>\n",
       "    <tr>\n",
       "      <th>0</th>\n",
       "      <td>2018-10-16 04:00:00</td>\n",
       "      <td>54.041659</td>\n",
       "      <td>39.285218</td>\n",
       "      <td>71.110211</td>\n",
       "      <td>54.041659</td>\n",
       "      <td>54.041659</td>\n",
       "      <td>0.012582</td>\n",
       "      <td>0.012582</td>\n",
       "      <td>0.012582</td>\n",
       "      <td>0.00513</td>\n",
       "      <td>0.00513</td>\n",
       "      <td>0.00513</td>\n",
       "      <td>0.007452</td>\n",
       "      <td>0.007452</td>\n",
       "      <td>0.007452</td>\n",
       "      <td>0.0</td>\n",
       "      <td>0.0</td>\n",
       "      <td>0.0</td>\n",
       "      <td>54.721602</td>\n",
       "    </tr>\n",
       "  </tbody>\n",
       "</table>\n",
       "</div>"
      ],
      "text/plain": [
       "                   ds      trend  yhat_lower  yhat_upper  trend_lower  \\\n",
       "0 2018-10-16 04:00:00  54.041659   39.285218   71.110211    54.041659   \n",
       "\n",
       "   trend_upper  multiplicative_terms  multiplicative_terms_lower  \\\n",
       "0    54.041659              0.012582                    0.012582   \n",
       "\n",
       "   multiplicative_terms_upper   weekly  weekly_lower  weekly_upper    yearly  \\\n",
       "0                    0.012582  0.00513       0.00513       0.00513  0.007452   \n",
       "\n",
       "   yearly_lower  yearly_upper  additive_terms  additive_terms_lower  \\\n",
       "0      0.007452      0.007452             0.0                   0.0   \n",
       "\n",
       "   additive_terms_upper       yhat  \n",
       "0                   0.0  54.721602  "
      ]
     },
     "execution_count": 23,
     "metadata": {},
     "output_type": "execute_result"
    }
   ],
   "source": [
    "forecast[forecast['ds']== '2018-10-16 04:00:00']"
   ]
  },
  {
   "cell_type": "code",
   "execution_count": 25,
   "metadata": {
    "colab": {
     "base_uri": "https://localhost:8080/",
     "height": 865
    },
    "id": "Ukvv9Y-G7EcH",
    "outputId": "4708ba07-7b38-40e7-9120-bad453317045"
   },
   "outputs": [
    {
     "data": {
      "image/png": "[encoded data removed]",
      "text/plain": [
       "<Figure size 720x432 with 1 Axes>"
      ]
     },
     "execution_count": 25,
     "metadata": {},
     "output_type": "execute_result"
    },
    {
     "data": {
      "image/png": "[encoded data removed]",
      "text/plain": [
       "<Figure size 720x432 with 1 Axes>"
      ]
     },
     "metadata": {},
     "output_type": "display_data"
    }
   ],
   "source": [
    "prophet.plot(forecast)"
   ]
  },
  {
   "cell_type": "code",
   "execution_count": null,
   "metadata": {},
   "outputs": [],
   "source": []
  },
  {
   "cell_type": "code",
   "execution_count": null,
   "metadata": {
    "colab": {
     "base_uri": "https://localhost:8080/",
     "height": 294
    },
    "id": "DMD_Ibl-frSu",
    "outputId": "61948281-cdd9-4f47-f2c3-80e854e64347"
   },
   "outputs": [
    {
     "data": {
      "text/plain": [
       "<matplotlib.axes._subplots.AxesSubplot at 0x7fab12a17450>"
      ]
     },
     "execution_count": 80,
     "metadata": {},
     "output_type": "execute_result"
    },
    {
     "data": {
      "image/png": "[encoded data removed]",
      "text/plain": [
       "<Figure size 432x288 with 1 Axes>"
      ]
     },
     "metadata": {
      "needs_background": "light"
     },
     "output_type": "display_data"
    }
   ],
   "source": [
    "btc_df['Close'].plot()"
   ]
  },
  {
   "cell_type": "markdown",
   "metadata": {
    "id": "GE6Qdk4CPDvW"
   },
   "source": [
    "###BTC"
   ]
  },
  {
   "cell_type": "code",
   "execution_count": 26,
   "metadata": {
    "id": "IRdsgm5GO7k7"
   },
   "outputs": [],
   "source": [
    "prophet_df=pd.DataFrame()\n",
    "prophet_df['y'] = btc_df['Close']\n",
    "prophet_df['ds'] = btc_df.index\n",
    "prophet_df.reset_index(drop=True, inplace=True)"
   ]
  },
  {
   "cell_type": "code",
   "execution_count": 27,
   "metadata": {
    "colab": {
     "base_uri": "https://localhost:8080/",
     "height": 423
    },
    "id": "6L4aNcJUO7lB",
    "outputId": "8641afc7-6a64-4ef7-8446-d4cd9897e14f"
   },
   "outputs": [
    {
     "data": {
      "text/html": [
       "<div>\n",
       "<style scoped>\n",
       "    .dataframe tbody tr th:only-of-type {\n",
       "        vertical-align: middle;\n",
       "    }\n",
       "\n",
       "    .dataframe tbody tr th {\n",
       "        vertical-align: top;\n",
       "    }\n",
       "\n",
       "    .dataframe thead th {\n",
       "        text-align: right;\n",
       "    }\n",
       "</style>\n",
       "<table border=\"1\" class=\"dataframe\">\n",
       "  <thead>\n",
       "    <tr style=\"text-align: right;\">\n",
       "      <th></th>\n",
       "      <th>y</th>\n",
       "      <th>ds</th>\n",
       "    </tr>\n",
       "  </thead>\n",
       "  <tbody>\n",
       "    <tr>\n",
       "      <th>0</th>\n",
       "      <td>6444.08</td>\n",
       "      <td>2018-10-16 04:00:00</td>\n",
       "    </tr>\n",
       "    <tr>\n",
       "      <th>1</th>\n",
       "      <td>6459.26</td>\n",
       "      <td>2018-10-17 04:00:00</td>\n",
       "    </tr>\n",
       "    <tr>\n",
       "      <th>2</th>\n",
       "      <td>6383.39</td>\n",
       "      <td>2018-10-18 04:00:00</td>\n",
       "    </tr>\n",
       "    <tr>\n",
       "      <th>3</th>\n",
       "      <td>6383.39</td>\n",
       "      <td>2018-10-19 04:00:00</td>\n",
       "    </tr>\n",
       "    <tr>\n",
       "      <th>4</th>\n",
       "      <td>6382.04</td>\n",
       "      <td>2018-10-20 04:00:00</td>\n",
       "    </tr>\n",
       "    <tr>\n",
       "      <th>...</th>\n",
       "      <td>...</td>\n",
       "      <td>...</td>\n",
       "    </tr>\n",
       "    <tr>\n",
       "      <th>1068</th>\n",
       "      <td>47854.23</td>\n",
       "      <td>2021-09-18 04:00:00</td>\n",
       "    </tr>\n",
       "    <tr>\n",
       "      <th>1069</th>\n",
       "      <td>45553.62</td>\n",
       "      <td>2021-09-19 04:00:00</td>\n",
       "    </tr>\n",
       "    <tr>\n",
       "      <th>1070</th>\n",
       "      <td>42688.03</td>\n",
       "      <td>2021-09-20 04:00:00</td>\n",
       "    </tr>\n",
       "    <tr>\n",
       "      <th>1071</th>\n",
       "      <td>42089.88</td>\n",
       "      <td>2021-09-21 04:00:00</td>\n",
       "    </tr>\n",
       "    <tr>\n",
       "      <th>1072</th>\n",
       "      <td>43559.58</td>\n",
       "      <td>2021-09-22 04:00:00</td>\n",
       "    </tr>\n",
       "  </tbody>\n",
       "</table>\n",
       "<p>1073 rows × 2 columns</p>\n",
       "</div>"
      ],
      "text/plain": [
       "             y                  ds\n",
       "0      6444.08 2018-10-16 04:00:00\n",
       "1      6459.26 2018-10-17 04:00:00\n",
       "2      6383.39 2018-10-18 04:00:00\n",
       "3      6383.39 2018-10-19 04:00:00\n",
       "4      6382.04 2018-10-20 04:00:00\n",
       "...        ...                 ...\n",
       "1068  47854.23 2021-09-18 04:00:00\n",
       "1069  45553.62 2021-09-19 04:00:00\n",
       "1070  42688.03 2021-09-20 04:00:00\n",
       "1071  42089.88 2021-09-21 04:00:00\n",
       "1072  43559.58 2021-09-22 04:00:00\n",
       "\n",
       "[1073 rows x 2 columns]"
      ]
     },
     "execution_count": 27,
     "metadata": {},
     "output_type": "execute_result"
    }
   ],
   "source": [
    "prophet_df"
   ]
  },
  {
   "cell_type": "code",
   "execution_count": 28,
   "metadata": {
    "colab": {
     "base_uri": "https://localhost:8080/"
    },
    "id": "wiPSwTSgO7lB",
    "outputId": "89bc117c-4801-47b0-8e41-b15dc2fffa5b"
   },
   "outputs": [
    {
     "name": "stderr",
     "output_type": "stream",
     "text": [
      "INFO:fbprophet:Disabling daily seasonality. Run prophet with daily_seasonality=True to override this.\n",
      "C:\\Users\\saija\\anaconda3\\lib\\site-packages\\fbprophet\\forecaster.py:891: FutureWarning: The frame.append method is deprecated and will be removed from pandas in a future version. Use pandas.concat instead.\n",
      "  components = components.append(new_comp)\n",
      "WARNING:fbprophet.models:Optimization terminated abnormally. Falling back to Newton.\n",
      "INFO:fbprophet:Making 34 forecasts with cutoffs between 2019-10-25 04:00:00 and 2021-03-03 04:00:00\n",
      "INFO:fbprophet:Applying in parallel with <concurrent.futures.process.ProcessPoolExecutor object at 0x00000288C56AACA0>\n",
      "INFO:fbprophet:Disabling daily seasonality. Run prophet with daily_seasonality=True to override this.\n",
      "C:\\Users\\saija\\anaconda3\\lib\\site-packages\\fbprophet\\forecaster.py:891: FutureWarning: The frame.append method is deprecated and will be removed from pandas in a future version. Use pandas.concat instead.\n",
      "  components = components.append(new_comp)\n",
      "WARNING:fbprophet.models:Optimization terminated abnormally. Falling back to Newton.\n",
      "INFO:fbprophet:Making 34 forecasts with cutoffs between 2019-10-25 04:00:00 and 2021-03-03 04:00:00\n",
      "INFO:fbprophet:Applying in parallel with <concurrent.futures.process.ProcessPoolExecutor object at 0x00000288CE3BF4F0>\n",
      "INFO:fbprophet:Disabling daily seasonality. Run prophet with daily_seasonality=True to override this.\n",
      "C:\\Users\\saija\\anaconda3\\lib\\site-packages\\fbprophet\\forecaster.py:891: FutureWarning: The frame.append method is deprecated and will be removed from pandas in a future version. Use pandas.concat instead.\n",
      "  components = components.append(new_comp)\n",
      "WARNING:fbprophet.models:Optimization terminated abnormally. Falling back to Newton.\n",
      "INFO:fbprophet:Making 34 forecasts with cutoffs between 2019-10-25 04:00:00 and 2021-03-03 04:00:00\n",
      "INFO:fbprophet:Applying in parallel with <concurrent.futures.process.ProcessPoolExecutor object at 0x00000288CD0440A0>\n",
      "INFO:fbprophet:Disabling daily seasonality. Run prophet with daily_seasonality=True to override this.\n",
      "C:\\Users\\saija\\anaconda3\\lib\\site-packages\\fbprophet\\forecaster.py:891: FutureWarning: The frame.append method is deprecated and will be removed from pandas in a future version. Use pandas.concat instead.\n",
      "  components = components.append(new_comp)\n",
      "WARNING:fbprophet.models:Optimization terminated abnormally. Falling back to Newton.\n",
      "INFO:fbprophet:Making 34 forecasts with cutoffs between 2019-10-25 04:00:00 and 2021-03-03 04:00:00\n",
      "INFO:fbprophet:Applying in parallel with <concurrent.futures.process.ProcessPoolExecutor object at 0x00000288CD11C460>\n",
      "INFO:fbprophet:Disabling daily seasonality. Run prophet with daily_seasonality=True to override this.\n",
      "C:\\Users\\saija\\anaconda3\\lib\\site-packages\\fbprophet\\forecaster.py:891: FutureWarning: The frame.append method is deprecated and will be removed from pandas in a future version. Use pandas.concat instead.\n",
      "  components = components.append(new_comp)\n",
      "INFO:fbprophet:Making 34 forecasts with cutoffs between 2019-10-25 04:00:00 and 2021-03-03 04:00:00\n",
      "INFO:fbprophet:Applying in parallel with <concurrent.futures.process.ProcessPoolExecutor object at 0x00000288CE4305B0>\n",
      "INFO:fbprophet:Disabling daily seasonality. Run prophet with daily_seasonality=True to override this.\n",
      "C:\\Users\\saija\\anaconda3\\lib\\site-packages\\fbprophet\\forecaster.py:891: FutureWarning: The frame.append method is deprecated and will be removed from pandas in a future version. Use pandas.concat instead.\n",
      "  components = components.append(new_comp)\n",
      "INFO:fbprophet:Making 34 forecasts with cutoffs between 2019-10-25 04:00:00 and 2021-03-03 04:00:00\n",
      "INFO:fbprophet:Applying in parallel with <concurrent.futures.process.ProcessPoolExecutor object at 0x00000288CD2B69A0>\n",
      "INFO:fbprophet:Disabling daily seasonality. Run prophet with daily_seasonality=True to override this.\n",
      "C:\\Users\\saija\\anaconda3\\lib\\site-packages\\fbprophet\\forecaster.py:891: FutureWarning: The frame.append method is deprecated and will be removed from pandas in a future version. Use pandas.concat instead.\n",
      "  components = components.append(new_comp)\n",
      "INFO:fbprophet:Making 34 forecasts with cutoffs between 2019-10-25 04:00:00 and 2021-03-03 04:00:00\n",
      "INFO:fbprophet:Applying in parallel with <concurrent.futures.process.ProcessPoolExecutor object at 0x00000288C8D09700>\n",
      "INFO:fbprophet:Disabling daily seasonality. Run prophet with daily_seasonality=True to override this.\n",
      "C:\\Users\\saija\\anaconda3\\lib\\site-packages\\fbprophet\\forecaster.py:891: FutureWarning: The frame.append method is deprecated and will be removed from pandas in a future version. Use pandas.concat instead.\n",
      "  components = components.append(new_comp)\n",
      "INFO:fbprophet:Making 34 forecasts with cutoffs between 2019-10-25 04:00:00 and 2021-03-03 04:00:00\n",
      "INFO:fbprophet:Applying in parallel with <concurrent.futures.process.ProcessPoolExecutor object at 0x00000288CE43DEE0>\n",
      "INFO:fbprophet:Disabling daily seasonality. Run prophet with daily_seasonality=True to override this.\n",
      "C:\\Users\\saija\\anaconda3\\lib\\site-packages\\fbprophet\\forecaster.py:891: FutureWarning: The frame.append method is deprecated and will be removed from pandas in a future version. Use pandas.concat instead.\n",
      "  components = components.append(new_comp)\n",
      "INFO:fbprophet:Making 34 forecasts with cutoffs between 2019-10-25 04:00:00 and 2021-03-03 04:00:00\n",
      "INFO:fbprophet:Applying in parallel with <concurrent.futures.process.ProcessPoolExecutor object at 0x00000288CE46CF70>\n",
      "INFO:fbprophet:Disabling daily seasonality. Run prophet with daily_seasonality=True to override this.\n",
      "C:\\Users\\saija\\anaconda3\\lib\\site-packages\\fbprophet\\forecaster.py:891: FutureWarning: The frame.append method is deprecated and will be removed from pandas in a future version. Use pandas.concat instead.\n",
      "  components = components.append(new_comp)\n",
      "INFO:fbprophet:Making 34 forecasts with cutoffs between 2019-10-25 04:00:00 and 2021-03-03 04:00:00\n",
      "INFO:fbprophet:Applying in parallel with <concurrent.futures.process.ProcessPoolExecutor object at 0x00000288CE41CEE0>\n",
      "INFO:fbprophet:Disabling daily seasonality. Run prophet with daily_seasonality=True to override this.\n",
      "C:\\Users\\saija\\anaconda3\\lib\\site-packages\\fbprophet\\forecaster.py:891: FutureWarning: The frame.append method is deprecated and will be removed from pandas in a future version. Use pandas.concat instead.\n",
      "  components = components.append(new_comp)\n",
      "INFO:fbprophet:Making 34 forecasts with cutoffs between 2019-10-25 04:00:00 and 2021-03-03 04:00:00\n",
      "INFO:fbprophet:Applying in parallel with <concurrent.futures.process.ProcessPoolExecutor object at 0x00000288CE3A9BE0>\n",
      "INFO:fbprophet:Disabling daily seasonality. Run prophet with daily_seasonality=True to override this.\n",
      "C:\\Users\\saija\\anaconda3\\lib\\site-packages\\fbprophet\\forecaster.py:891: FutureWarning: The frame.append method is deprecated and will be removed from pandas in a future version. Use pandas.concat instead.\n",
      "  components = components.append(new_comp)\n",
      "INFO:fbprophet:Making 34 forecasts with cutoffs between 2019-10-25 04:00:00 and 2021-03-03 04:00:00\n",
      "INFO:fbprophet:Applying in parallel with <concurrent.futures.process.ProcessPoolExecutor object at 0x00000288C8D09700>\n",
      "INFO:fbprophet:Disabling daily seasonality. Run prophet with daily_seasonality=True to override this.\n",
      "C:\\Users\\saija\\anaconda3\\lib\\site-packages\\fbprophet\\forecaster.py:891: FutureWarning: The frame.append method is deprecated and will be removed from pandas in a future version. Use pandas.concat instead.\n",
      "  components = components.append(new_comp)\n",
      "INFO:fbprophet:Making 34 forecasts with cutoffs between 2019-10-25 04:00:00 and 2021-03-03 04:00:00\n",
      "INFO:fbprophet:Applying in parallel with <concurrent.futures.process.ProcessPoolExecutor object at 0x00000288CE462730>\n",
      "INFO:fbprophet:Disabling daily seasonality. Run prophet with daily_seasonality=True to override this.\n",
      "C:\\Users\\saija\\anaconda3\\lib\\site-packages\\fbprophet\\forecaster.py:891: FutureWarning: The frame.append method is deprecated and will be removed from pandas in a future version. Use pandas.concat instead.\n",
      "  components = components.append(new_comp)\n",
      "INFO:fbprophet:Making 34 forecasts with cutoffs between 2019-10-25 04:00:00 and 2021-03-03 04:00:00\n",
      "INFO:fbprophet:Applying in parallel with <concurrent.futures.process.ProcessPoolExecutor object at 0x00000288CE40C700>\n"
     ]
    },
    {
     "name": "stderr",
     "output_type": "stream",
     "text": [
      "INFO:fbprophet:Disabling daily seasonality. Run prophet with daily_seasonality=True to override this.\n",
      "C:\\Users\\saija\\anaconda3\\lib\\site-packages\\fbprophet\\forecaster.py:891: FutureWarning: The frame.append method is deprecated and will be removed from pandas in a future version. Use pandas.concat instead.\n",
      "  components = components.append(new_comp)\n",
      "INFO:fbprophet:Making 34 forecasts with cutoffs between 2019-10-25 04:00:00 and 2021-03-03 04:00:00\n",
      "INFO:fbprophet:Applying in parallel with <concurrent.futures.process.ProcessPoolExecutor object at 0x00000288CE40C550>\n",
      "INFO:fbprophet:Disabling daily seasonality. Run prophet with daily_seasonality=True to override this.\n",
      "C:\\Users\\saija\\anaconda3\\lib\\site-packages\\fbprophet\\forecaster.py:891: FutureWarning: The frame.append method is deprecated and will be removed from pandas in a future version. Use pandas.concat instead.\n",
      "  components = components.append(new_comp)\n",
      "INFO:fbprophet:Making 34 forecasts with cutoffs between 2019-10-25 04:00:00 and 2021-03-03 04:00:00\n",
      "INFO:fbprophet:Applying in parallel with <concurrent.futures.process.ProcessPoolExecutor object at 0x00000288CD2A5250>\n"
     ]
    },
    {
     "name": "stdout",
     "output_type": "stream",
     "text": [
      "    changepoint_prior_scale  seasonality_prior_scale          rmse\n",
      "0                     0.001                     0.01  12488.161446\n",
      "1                     0.001                     0.10  12658.184240\n",
      "2                     0.001                     1.00  12655.848042\n",
      "3                     0.001                    10.00  12650.963407\n",
      "4                     0.010                     0.01   6879.459539\n",
      "5                     0.010                     0.10   6934.170795\n",
      "6                     0.010                     1.00   6821.640541\n",
      "7                     0.010                    10.00   6956.063939\n",
      "8                     0.100                     0.01   3768.877732\n",
      "9                     0.100                     0.10   3372.165400\n",
      "10                    0.100                     1.00   3387.721539\n",
      "11                    0.100                    10.00   3372.385042\n",
      "12                    0.500                     0.01   3861.615035\n",
      "13                    0.500                     0.10   3773.000867\n",
      "14                    0.500                     1.00   3858.979840\n",
      "15                    0.500                    10.00   3853.959862\n"
     ]
    }
   ],
   "source": [
    "import itertools\n",
    "import numpy as np\n",
    "import pandas as pd\n",
    "from fbprophet import Prophet\n",
    "from fbprophet.diagnostics import cross_validation\n",
    "from fbprophet.diagnostics import performance_metrics\n",
    "\n",
    "param_grid = {  \n",
    "    'changepoint_prior_scale': [0.001, 0.01, 0.1, 0.5],\n",
    "    'seasonality_prior_scale': [0.01, 0.1, 1.0, 10.0],\n",
    "}\n",
    "\n",
    "train,test = prophet_df[:900],prophet_df[900:]\n",
    "\n",
    "# Generate all combinations of parameters\n",
    "all_params = [dict(zip(param_grid.keys(), v)) for v in itertools.product(*param_grid.values())]\n",
    "rmses = []  # Store the RMSEs for each params here\n",
    "\n",
    "# Use cross validation to evaluate all parameters\n",
    "for params in all_params:\n",
    "    m = Prophet(**params).fit(train)  # Fit model with given params\n",
    "    df_cv = cross_validation(m, cutoffs=None, horizon='30 days', parallel=\"processes\")\n",
    "    df_p = performance_metrics(df_cv, rolling_window=1)\n",
    "    rmses.append(df_p['rmse'].values[0])\n",
    "\n",
    "# Find the best parameters\n",
    "tuning_results = pd.DataFrame(all_params)\n",
    "tuning_results['rmse'] = rmses\n",
    "print(tuning_results)"
   ]
  },
  {
   "cell_type": "code",
   "execution_count": 39,
   "metadata": {
    "colab": {
     "base_uri": "https://localhost:8080/"
    },
    "id": "TDLtBW4xO7lB",
    "outputId": "a5ad81de-c873-4252-b997-7107803c6080"
   },
   "outputs": [
    {
     "name": "stderr",
     "output_type": "stream",
     "text": [
      "INFO:fbprophet:Disabling daily seasonality. Run prophet with daily_seasonality=True to override this.\n",
      "C:\\Users\\saija\\anaconda3\\lib\\site-packages\\fbprophet\\forecaster.py:891: FutureWarning: The frame.append method is deprecated and will be removed from pandas in a future version. Use pandas.concat instead.\n",
      "  components = components.append(new_comp)\n"
     ]
    },
    {
     "data": {
      "text/plain": [
       "<fbprophet.forecaster.Prophet at 0x288c7b1f280>"
      ]
     },
     "execution_count": 39,
     "metadata": {},
     "output_type": "execute_result"
    }
   ],
   "source": [
    "prophet = Prophet(changepoint_prior_scale = 0.100, seasonality_prior_scale= 0.10, seasonality_mode='multiplicative')\n",
    "prophet.fit(prophet_df)\n",
    "\n"
   ]
  },
  {
   "cell_type": "code",
   "execution_count": 40,
   "metadata": {
    "colab": {
     "base_uri": "https://localhost:8080/",
     "height": 206
    },
    "id": "xVZOcz9NO7lB",
    "outputId": "ee1dc922-63e8-4c25-930b-3c96c1e46f57"
   },
   "outputs": [
    {
     "data": {
      "text/html": [
       "<div>\n",
       "<style scoped>\n",
       "    .dataframe tbody tr th:only-of-type {\n",
       "        vertical-align: middle;\n",
       "    }\n",
       "\n",
       "    .dataframe tbody tr th {\n",
       "        vertical-align: top;\n",
       "    }\n",
       "\n",
       "    .dataframe thead th {\n",
       "        text-align: right;\n",
       "    }\n",
       "</style>\n",
       "<table border=\"1\" class=\"dataframe\">\n",
       "  <thead>\n",
       "    <tr style=\"text-align: right;\">\n",
       "      <th></th>\n",
       "      <th>ds</th>\n",
       "    </tr>\n",
       "  </thead>\n",
       "  <tbody>\n",
       "    <tr>\n",
       "      <th>1241</th>\n",
       "      <td>2022-03-10 04:00:00</td>\n",
       "    </tr>\n",
       "    <tr>\n",
       "      <th>1242</th>\n",
       "      <td>2022-03-11 04:00:00</td>\n",
       "    </tr>\n",
       "    <tr>\n",
       "      <th>1243</th>\n",
       "      <td>2022-03-12 04:00:00</td>\n",
       "    </tr>\n",
       "    <tr>\n",
       "      <th>1244</th>\n",
       "      <td>2022-03-13 04:00:00</td>\n",
       "    </tr>\n",
       "    <tr>\n",
       "      <th>1245</th>\n",
       "      <td>2022-03-14 04:00:00</td>\n",
       "    </tr>\n",
       "  </tbody>\n",
       "</table>\n",
       "</div>"
      ],
      "text/plain": [
       "                      ds\n",
       "1241 2022-03-10 04:00:00\n",
       "1242 2022-03-11 04:00:00\n",
       "1243 2022-03-12 04:00:00\n",
       "1244 2022-03-13 04:00:00\n",
       "1245 2022-03-14 04:00:00"
      ]
     },
     "execution_count": 40,
     "metadata": {},
     "output_type": "execute_result"
    }
   ],
   "source": [
    "future = prophet.make_future_dataframe(periods=len(prophet_df[900:]))\n",
    "future.tail()"
   ]
  },
  {
   "cell_type": "code",
   "execution_count": 41,
   "metadata": {
    "colab": {
     "base_uri": "https://localhost:8080/",
     "height": 269
    },
    "id": "ECVwTAqWO7lC",
    "outputId": "bc4cf364-b479-4abb-c10a-a8e2eb425322"
   },
   "outputs": [
    {
     "name": "stderr",
     "output_type": "stream",
     "text": [
      "C:\\Users\\saija\\anaconda3\\lib\\site-packages\\fbprophet\\forecaster.py:891: FutureWarning: The frame.append method is deprecated and will be removed from pandas in a future version. Use pandas.concat instead.\n",
      "  components = components.append(new_comp)\n",
      "C:\\Users\\saija\\anaconda3\\lib\\site-packages\\fbprophet\\forecaster.py:891: FutureWarning: The frame.append method is deprecated and will be removed from pandas in a future version. Use pandas.concat instead.\n",
      "  components = components.append(new_comp)\n"
     ]
    },
    {
     "data": {
      "text/html": [
       "<div>\n",
       "<style scoped>\n",
       "    .dataframe tbody tr th:only-of-type {\n",
       "        vertical-align: middle;\n",
       "    }\n",
       "\n",
       "    .dataframe tbody tr th {\n",
       "        vertical-align: top;\n",
       "    }\n",
       "\n",
       "    .dataframe thead th {\n",
       "        text-align: right;\n",
       "    }\n",
       "</style>\n",
       "<table border=\"1\" class=\"dataframe\">\n",
       "  <thead>\n",
       "    <tr style=\"text-align: right;\">\n",
       "      <th></th>\n",
       "      <th>ds</th>\n",
       "      <th>yhat</th>\n",
       "      <th>yhat_lower</th>\n",
       "      <th>yhat_upper</th>\n",
       "    </tr>\n",
       "  </thead>\n",
       "  <tbody>\n",
       "    <tr>\n",
       "      <th>1239</th>\n",
       "      <td>2022-03-08 04:00:00</td>\n",
       "      <td>4719.415761</td>\n",
       "      <td>4496.933811</td>\n",
       "      <td>4922.843460</td>\n",
       "    </tr>\n",
       "    <tr>\n",
       "      <th>1240</th>\n",
       "      <td>2022-03-09 04:00:00</td>\n",
       "      <td>4741.653769</td>\n",
       "      <td>4509.761638</td>\n",
       "      <td>4953.809227</td>\n",
       "    </tr>\n",
       "    <tr>\n",
       "      <th>1241</th>\n",
       "      <td>2022-03-10 04:00:00</td>\n",
       "      <td>4731.939827</td>\n",
       "      <td>4523.142735</td>\n",
       "      <td>4952.695334</td>\n",
       "    </tr>\n",
       "    <tr>\n",
       "      <th>1242</th>\n",
       "      <td>2022-03-11 04:00:00</td>\n",
       "      <td>4742.324470</td>\n",
       "      <td>4512.011065</td>\n",
       "      <td>4970.463119</td>\n",
       "    </tr>\n",
       "    <tr>\n",
       "      <th>1243</th>\n",
       "      <td>2022-03-12 04:00:00</td>\n",
       "      <td>4748.296640</td>\n",
       "      <td>4523.876957</td>\n",
       "      <td>4964.082818</td>\n",
       "    </tr>\n",
       "    <tr>\n",
       "      <th>1244</th>\n",
       "      <td>2022-03-13 04:00:00</td>\n",
       "      <td>4762.908842</td>\n",
       "      <td>4540.252379</td>\n",
       "      <td>4987.950646</td>\n",
       "    </tr>\n",
       "    <tr>\n",
       "      <th>1245</th>\n",
       "      <td>2022-03-14 04:00:00</td>\n",
       "      <td>4797.369106</td>\n",
       "      <td>4586.840915</td>\n",
       "      <td>5016.352135</td>\n",
       "    </tr>\n",
       "  </tbody>\n",
       "</table>\n",
       "</div>"
      ],
      "text/plain": [
       "                      ds         yhat   yhat_lower   yhat_upper\n",
       "1239 2022-03-08 04:00:00  4719.415761  4496.933811  4922.843460\n",
       "1240 2022-03-09 04:00:00  4741.653769  4509.761638  4953.809227\n",
       "1241 2022-03-10 04:00:00  4731.939827  4523.142735  4952.695334\n",
       "1242 2022-03-11 04:00:00  4742.324470  4512.011065  4970.463119\n",
       "1243 2022-03-12 04:00:00  4748.296640  4523.876957  4964.082818\n",
       "1244 2022-03-13 04:00:00  4762.908842  4540.252379  4987.950646\n",
       "1245 2022-03-14 04:00:00  4797.369106  4586.840915  5016.352135"
      ]
     },
     "execution_count": 41,
     "metadata": {},
     "output_type": "execute_result"
    }
   ],
   "source": [
    "forecast = prophet.predict(future)\n",
    "forecast[['ds', 'yhat', 'yhat_lower', 'yhat_upper']].tail(7)"
   ]
  },
  {
   "cell_type": "code",
   "execution_count": 42,
   "metadata": {
    "colab": {
     "base_uri": "https://localhost:8080/",
     "height": 865
    },
    "id": "g5_nPQgDO7lC",
    "outputId": "49450aef-6f4a-4758-cdbe-2afecab35f6f"
   },
   "outputs": [
    {
     "data": {
      "image/png": "[encoded data removed]",
      "text/plain": [
       "<Figure size 720x432 with 1 Axes>"
      ]
     },
     "execution_count": 42,
     "metadata": {},
     "output_type": "execute_result"
    },
    {
     "data": {
      "image/png": "[encoded data removed]",
      "text/plain": [
       "<Figure size 720x432 with 1 Axes>"
      ]
     },
     "metadata": {},
     "output_type": "display_data"
    }
   ],
   "source": [
    "prophet.plot(forecast)"
   ]
  },
  {
   "cell_type": "markdown",
   "metadata": {
    "id": "p-LcMeOTPPZo"
   },
   "source": [
    "###ETH"
   ]
  },
  {
   "cell_type": "code",
   "execution_count": null,
   "metadata": {},
   "outputs": [],
   "source": []
  },
  {
   "cell_type": "code",
   "execution_count": null,
   "metadata": {
    "colab": {
     "base_uri": "https://localhost:8080/",
     "height": 294
    },
    "id": "Z_1syaLhO7lC",
    "outputId": "c8706b13-181a-4313-e62b-8bf4be16839c"
   },
   "outputs": [
    {
     "data": {
      "text/plain": [
       "<matplotlib.axes._subplots.AxesSubplot at 0x7faaf5ef3390>"
      ]
     },
     "execution_count": 130,
     "metadata": {},
     "output_type": "execute_result"
    },
    {
     "data": {
      "image/png": "[encoded data removed]",
      "text/plain": [
       "<Figure size 432x288 with 1 Axes>"
      ]
     },
     "metadata": {
      "needs_background": "light"
     },
     "output_type": "display_data"
    }
   ],
   "source": [
    "eth_df['Close'].plot()"
   ]
  },
  {
   "cell_type": "code",
   "execution_count": 36,
   "metadata": {
    "id": "DB6QOebaO8Pa"
   },
   "outputs": [],
   "source": [
    "prophet_df=pd.DataFrame()\n",
    "prophet_df['y'] = eth_df['Close']\n",
    "prophet_df['ds'] = eth_df.index\n",
    "prophet_df.reset_index(drop=True, inplace=True)"
   ]
  },
  {
   "cell_type": "code",
   "execution_count": 37,
   "metadata": {
    "colab": {
     "base_uri": "https://localhost:8080/",
     "height": 423
    },
    "id": "BM6yjbDUO8Pb",
    "outputId": "84a87f5f-0abd-4ee0-d8c6-d790bf7d69cb"
   },
   "outputs": [
    {
     "data": {
      "text/html": [
       "<div>\n",
       "<style scoped>\n",
       "    .dataframe tbody tr th:only-of-type {\n",
       "        vertical-align: middle;\n",
       "    }\n",
       "\n",
       "    .dataframe tbody tr th {\n",
       "        vertical-align: top;\n",
       "    }\n",
       "\n",
       "    .dataframe thead th {\n",
       "        text-align: right;\n",
       "    }\n",
       "</style>\n",
       "<table border=\"1\" class=\"dataframe\">\n",
       "  <thead>\n",
       "    <tr style=\"text-align: right;\">\n",
       "      <th></th>\n",
       "      <th>y</th>\n",
       "      <th>ds</th>\n",
       "    </tr>\n",
       "  </thead>\n",
       "  <tbody>\n",
       "    <tr>\n",
       "      <th>0</th>\n",
       "      <td>205.86</td>\n",
       "      <td>2018-10-16 04:00:00</td>\n",
       "    </tr>\n",
       "    <tr>\n",
       "      <th>1</th>\n",
       "      <td>204.60</td>\n",
       "      <td>2018-10-17 04:00:00</td>\n",
       "    </tr>\n",
       "    <tr>\n",
       "      <th>2</th>\n",
       "      <td>199.43</td>\n",
       "      <td>2018-10-18 04:00:00</td>\n",
       "    </tr>\n",
       "    <tr>\n",
       "      <th>3</th>\n",
       "      <td>199.43</td>\n",
       "      <td>2018-10-19 04:00:00</td>\n",
       "    </tr>\n",
       "    <tr>\n",
       "      <th>4</th>\n",
       "      <td>200.73</td>\n",
       "      <td>2018-10-20 04:00:00</td>\n",
       "    </tr>\n",
       "    <tr>\n",
       "      <th>...</th>\n",
       "      <td>...</td>\n",
       "      <td>...</td>\n",
       "    </tr>\n",
       "    <tr>\n",
       "      <th>1068</th>\n",
       "      <td>3413.18</td>\n",
       "      <td>2021-09-18 04:00:00</td>\n",
       "    </tr>\n",
       "    <tr>\n",
       "      <th>1069</th>\n",
       "      <td>3187.56</td>\n",
       "      <td>2021-09-19 04:00:00</td>\n",
       "    </tr>\n",
       "    <tr>\n",
       "      <th>1070</th>\n",
       "      <td>2998.29</td>\n",
       "      <td>2021-09-20 04:00:00</td>\n",
       "    </tr>\n",
       "    <tr>\n",
       "      <th>1071</th>\n",
       "      <td>2869.31</td>\n",
       "      <td>2021-09-21 04:00:00</td>\n",
       "    </tr>\n",
       "    <tr>\n",
       "      <th>1072</th>\n",
       "      <td>3072.44</td>\n",
       "      <td>2021-09-22 04:00:00</td>\n",
       "    </tr>\n",
       "  </tbody>\n",
       "</table>\n",
       "<p>1073 rows × 2 columns</p>\n",
       "</div>"
      ],
      "text/plain": [
       "            y                  ds\n",
       "0      205.86 2018-10-16 04:00:00\n",
       "1      204.60 2018-10-17 04:00:00\n",
       "2      199.43 2018-10-18 04:00:00\n",
       "3      199.43 2018-10-19 04:00:00\n",
       "4      200.73 2018-10-20 04:00:00\n",
       "...       ...                 ...\n",
       "1068  3413.18 2021-09-18 04:00:00\n",
       "1069  3187.56 2021-09-19 04:00:00\n",
       "1070  2998.29 2021-09-20 04:00:00\n",
       "1071  2869.31 2021-09-21 04:00:00\n",
       "1072  3072.44 2021-09-22 04:00:00\n",
       "\n",
       "[1073 rows x 2 columns]"
      ]
     },
     "execution_count": 37,
     "metadata": {},
     "output_type": "execute_result"
    }
   ],
   "source": [
    "prophet_df"
   ]
  },
  {
   "cell_type": "code",
   "execution_count": 38,
   "metadata": {
    "colab": {
     "base_uri": "https://localhost:8080/"
    },
    "id": "d0-vLO4UO8Pb",
    "outputId": "e051bb97-d959-4a05-fd50-47b1f0c6b196"
   },
   "outputs": [
    {
     "name": "stderr",
     "output_type": "stream",
     "text": [
      "INFO:fbprophet:Disabling daily seasonality. Run prophet with daily_seasonality=True to override this.\n",
      "C:\\Users\\saija\\anaconda3\\lib\\site-packages\\fbprophet\\forecaster.py:891: FutureWarning: The frame.append method is deprecated and will be removed from pandas in a future version. Use pandas.concat instead.\n",
      "  components = components.append(new_comp)\n",
      "WARNING:fbprophet.models:Optimization terminated abnormally. Falling back to Newton.\n",
      "INFO:fbprophet:Making 34 forecasts with cutoffs between 2019-10-25 04:00:00 and 2021-03-03 04:00:00\n",
      "INFO:fbprophet:Applying in parallel with <concurrent.futures.process.ProcessPoolExecutor object at 0x00000288CE393160>\n",
      "INFO:fbprophet:Disabling daily seasonality. Run prophet with daily_seasonality=True to override this.\n",
      "C:\\Users\\saija\\anaconda3\\lib\\site-packages\\fbprophet\\forecaster.py:891: FutureWarning: The frame.append method is deprecated and will be removed from pandas in a future version. Use pandas.concat instead.\n",
      "  components = components.append(new_comp)\n",
      "WARNING:fbprophet.models:Optimization terminated abnormally. Falling back to Newton.\n",
      "INFO:fbprophet:Making 34 forecasts with cutoffs between 2019-10-25 04:00:00 and 2021-03-03 04:00:00\n",
      "INFO:fbprophet:Applying in parallel with <concurrent.futures.process.ProcessPoolExecutor object at 0x00000288CFFA75E0>\n",
      "INFO:fbprophet:Disabling daily seasonality. Run prophet with daily_seasonality=True to override this.\n",
      "C:\\Users\\saija\\anaconda3\\lib\\site-packages\\fbprophet\\forecaster.py:891: FutureWarning: The frame.append method is deprecated and will be removed from pandas in a future version. Use pandas.concat instead.\n",
      "  components = components.append(new_comp)\n",
      "WARNING:fbprophet.models:Optimization terminated abnormally. Falling back to Newton.\n",
      "INFO:fbprophet:Making 34 forecasts with cutoffs between 2019-10-25 04:00:00 and 2021-03-03 04:00:00\n",
      "INFO:fbprophet:Applying in parallel with <concurrent.futures.process.ProcessPoolExecutor object at 0x00000288CE296190>\n",
      "INFO:fbprophet:Disabling daily seasonality. Run prophet with daily_seasonality=True to override this.\n",
      "C:\\Users\\saija\\anaconda3\\lib\\site-packages\\fbprophet\\forecaster.py:891: FutureWarning: The frame.append method is deprecated and will be removed from pandas in a future version. Use pandas.concat instead.\n",
      "  components = components.append(new_comp)\n",
      "WARNING:fbprophet.models:Optimization terminated abnormally. Falling back to Newton.\n",
      "INFO:fbprophet:Making 34 forecasts with cutoffs between 2019-10-25 04:00:00 and 2021-03-03 04:00:00\n",
      "INFO:fbprophet:Applying in parallel with <concurrent.futures.process.ProcessPoolExecutor object at 0x00000288CFF61670>\n",
      "INFO:fbprophet:Disabling daily seasonality. Run prophet with daily_seasonality=True to override this.\n",
      "C:\\Users\\saija\\anaconda3\\lib\\site-packages\\fbprophet\\forecaster.py:891: FutureWarning: The frame.append method is deprecated and will be removed from pandas in a future version. Use pandas.concat instead.\n",
      "  components = components.append(new_comp)\n",
      "INFO:fbprophet:Making 34 forecasts with cutoffs between 2019-10-25 04:00:00 and 2021-03-03 04:00:00\n",
      "INFO:fbprophet:Applying in parallel with <concurrent.futures.process.ProcessPoolExecutor object at 0x00000288CE3F7A00>\n",
      "INFO:fbprophet:Disabling daily seasonality. Run prophet with daily_seasonality=True to override this.\n",
      "C:\\Users\\saija\\anaconda3\\lib\\site-packages\\fbprophet\\forecaster.py:891: FutureWarning: The frame.append method is deprecated and will be removed from pandas in a future version. Use pandas.concat instead.\n",
      "  components = components.append(new_comp)\n",
      "INFO:fbprophet:Making 34 forecasts with cutoffs between 2019-10-25 04:00:00 and 2021-03-03 04:00:00\n",
      "INFO:fbprophet:Applying in parallel with <concurrent.futures.process.ProcessPoolExecutor object at 0x00000288CD2B69A0>\n",
      "INFO:fbprophet:Disabling daily seasonality. Run prophet with daily_seasonality=True to override this.\n",
      "C:\\Users\\saija\\anaconda3\\lib\\site-packages\\fbprophet\\forecaster.py:891: FutureWarning: The frame.append method is deprecated and will be removed from pandas in a future version. Use pandas.concat instead.\n",
      "  components = components.append(new_comp)\n",
      "INFO:fbprophet:Making 34 forecasts with cutoffs between 2019-10-25 04:00:00 and 2021-03-03 04:00:00\n",
      "INFO:fbprophet:Applying in parallel with <concurrent.futures.process.ProcessPoolExecutor object at 0x00000288C7B6FDF0>\n",
      "INFO:fbprophet:Disabling daily seasonality. Run prophet with daily_seasonality=True to override this.\n",
      "C:\\Users\\saija\\anaconda3\\lib\\site-packages\\fbprophet\\forecaster.py:891: FutureWarning: The frame.append method is deprecated and will be removed from pandas in a future version. Use pandas.concat instead.\n",
      "  components = components.append(new_comp)\n",
      "INFO:fbprophet:Making 34 forecasts with cutoffs between 2019-10-25 04:00:00 and 2021-03-03 04:00:00\n",
      "INFO:fbprophet:Applying in parallel with <concurrent.futures.process.ProcessPoolExecutor object at 0x00000288CE473E80>\n",
      "INFO:fbprophet:Disabling daily seasonality. Run prophet with daily_seasonality=True to override this.\n",
      "C:\\Users\\saija\\anaconda3\\lib\\site-packages\\fbprophet\\forecaster.py:891: FutureWarning: The frame.append method is deprecated and will be removed from pandas in a future version. Use pandas.concat instead.\n",
      "  components = components.append(new_comp)\n",
      "INFO:fbprophet:Making 34 forecasts with cutoffs between 2019-10-25 04:00:00 and 2021-03-03 04:00:00\n",
      "INFO:fbprophet:Applying in parallel with <concurrent.futures.process.ProcessPoolExecutor object at 0x00000288C8D91400>\n",
      "INFO:fbprophet:Disabling daily seasonality. Run prophet with daily_seasonality=True to override this.\n",
      "C:\\Users\\saija\\anaconda3\\lib\\site-packages\\fbprophet\\forecaster.py:891: FutureWarning: The frame.append method is deprecated and will be removed from pandas in a future version. Use pandas.concat instead.\n",
      "  components = components.append(new_comp)\n",
      "INFO:fbprophet:Making 34 forecasts with cutoffs between 2019-10-25 04:00:00 and 2021-03-03 04:00:00\n",
      "INFO:fbprophet:Applying in parallel with <concurrent.futures.process.ProcessPoolExecutor object at 0x00000288CD242940>\n",
      "INFO:fbprophet:Disabling daily seasonality. Run prophet with daily_seasonality=True to override this.\n",
      "C:\\Users\\saija\\anaconda3\\lib\\site-packages\\fbprophet\\forecaster.py:891: FutureWarning: The frame.append method is deprecated and will be removed from pandas in a future version. Use pandas.concat instead.\n",
      "  components = components.append(new_comp)\n",
      "INFO:fbprophet:Making 34 forecasts with cutoffs between 2019-10-25 04:00:00 and 2021-03-03 04:00:00\n",
      "INFO:fbprophet:Applying in parallel with <concurrent.futures.process.ProcessPoolExecutor object at 0x00000288CE4605B0>\n",
      "INFO:fbprophet:Disabling daily seasonality. Run prophet with daily_seasonality=True to override this.\n",
      "C:\\Users\\saija\\anaconda3\\lib\\site-packages\\fbprophet\\forecaster.py:891: FutureWarning: The frame.append method is deprecated and will be removed from pandas in a future version. Use pandas.concat instead.\n",
      "  components = components.append(new_comp)\n",
      "INFO:fbprophet:Making 34 forecasts with cutoffs between 2019-10-25 04:00:00 and 2021-03-03 04:00:00\n",
      "INFO:fbprophet:Applying in parallel with <concurrent.futures.process.ProcessPoolExecutor object at 0x00000288CE393160>\n",
      "INFO:fbprophet:Disabling daily seasonality. Run prophet with daily_seasonality=True to override this.\n",
      "C:\\Users\\saija\\anaconda3\\lib\\site-packages\\fbprophet\\forecaster.py:891: FutureWarning: The frame.append method is deprecated and will be removed from pandas in a future version. Use pandas.concat instead.\n",
      "  components = components.append(new_comp)\n",
      "INFO:fbprophet:Making 34 forecasts with cutoffs between 2019-10-25 04:00:00 and 2021-03-03 04:00:00\n",
      "INFO:fbprophet:Applying in parallel with <concurrent.futures.process.ProcessPoolExecutor object at 0x00000288CFF746A0>\n",
      "INFO:fbprophet:Disabling daily seasonality. Run prophet with daily_seasonality=True to override this.\n",
      "C:\\Users\\saija\\anaconda3\\lib\\site-packages\\fbprophet\\forecaster.py:891: FutureWarning: The frame.append method is deprecated and will be removed from pandas in a future version. Use pandas.concat instead.\n",
      "  components = components.append(new_comp)\n",
      "INFO:fbprophet:Making 34 forecasts with cutoffs between 2019-10-25 04:00:00 and 2021-03-03 04:00:00\n",
      "INFO:fbprophet:Applying in parallel with <concurrent.futures.process.ProcessPoolExecutor object at 0x00000288CD2AB7F0>\n"
     ]
    },
    {
     "name": "stderr",
     "output_type": "stream",
     "text": [
      "INFO:fbprophet:Disabling daily seasonality. Run prophet with daily_seasonality=True to override this.\n",
      "C:\\Users\\saija\\anaconda3\\lib\\site-packages\\fbprophet\\forecaster.py:891: FutureWarning: The frame.append method is deprecated and will be removed from pandas in a future version. Use pandas.concat instead.\n",
      "  components = components.append(new_comp)\n",
      "INFO:fbprophet:Making 34 forecasts with cutoffs between 2019-10-25 04:00:00 and 2021-03-03 04:00:00\n",
      "INFO:fbprophet:Applying in parallel with <concurrent.futures.process.ProcessPoolExecutor object at 0x00000288CD2B69A0>\n",
      "INFO:fbprophet:Disabling daily seasonality. Run prophet with daily_seasonality=True to override this.\n",
      "C:\\Users\\saija\\anaconda3\\lib\\site-packages\\fbprophet\\forecaster.py:891: FutureWarning: The frame.append method is deprecated and will be removed from pandas in a future version. Use pandas.concat instead.\n",
      "  components = components.append(new_comp)\n",
      "INFO:fbprophet:Making 34 forecasts with cutoffs between 2019-10-25 04:00:00 and 2021-03-03 04:00:00\n",
      "INFO:fbprophet:Applying in parallel with <concurrent.futures.process.ProcessPoolExecutor object at 0x00000288C7B3FB20>\n"
     ]
    },
    {
     "name": "stdout",
     "output_type": "stream",
     "text": [
      "    changepoint_prior_scale  seasonality_prior_scale        rmse\n",
      "0                     0.001                     0.01  450.710438\n",
      "1                     0.001                     0.10  456.550083\n",
      "2                     0.001                     1.00  456.788625\n",
      "3                     0.001                    10.00  456.770932\n",
      "4                     0.010                     0.01  258.670678\n",
      "5                     0.010                     0.10  258.952946\n",
      "6                     0.010                     1.00  258.539821\n",
      "7                     0.010                    10.00  257.899220\n",
      "8                     0.100                     0.01  169.007943\n",
      "9                     0.100                     0.10  156.988321\n",
      "10                    0.100                     1.00  157.834123\n",
      "11                    0.100                    10.00  157.864294\n",
      "12                    0.500                     0.01  154.999093\n",
      "13                    0.500                     0.10  150.486876\n",
      "14                    0.500                     1.00  152.761293\n",
      "15                    0.500                    10.00  152.645787\n"
     ]
    }
   ],
   "source": [
    "import itertools\n",
    "import numpy as np\n",
    "import pandas as pd\n",
    "from fbprophet import Prophet\n",
    "from fbprophet.diagnostics import cross_validation\n",
    "from fbprophet.diagnostics import performance_metrics\n",
    "\n",
    "param_grid = {  \n",
    "    'changepoint_prior_scale': [0.001, 0.01, 0.1, 0.5],\n",
    "    'seasonality_prior_scale': [0.01, 0.1, 1.0, 10.0],\n",
    "}\n",
    "\n",
    "train,test = prophet_df[:900],prophet_df[900:]\n",
    "\n",
    "# Generate all combinations of parameters\n",
    "all_params = [dict(zip(param_grid.keys(), v)) for v in itertools.product(*param_grid.values())]\n",
    "rmses = []  # Store the RMSEs for each params here\n",
    "\n",
    "# Use cross validation to evaluate all parameters\n",
    "for params in all_params:\n",
    "    m = Prophet(**params).fit(train)  # Fit model with given params\n",
    "    df_cv = cross_validation(m, cutoffs=None, horizon='30 days', parallel=\"processes\")\n",
    "    df_p = performance_metrics(df_cv, rolling_window=1)\n",
    "    rmses.append(df_p['rmse'].values[0])\n",
    "\n",
    "# Find the best parameters\n",
    "tuning_results = pd.DataFrame(all_params)\n",
    "tuning_results['rmse'] = rmses\n",
    "print(tuning_results)"
   ]
  },
  {
   "cell_type": "code",
   "execution_count": 43,
   "metadata": {
    "colab": {
     "base_uri": "https://localhost:8080/"
    },
    "id": "X8ZyTnzJO8Pc",
    "outputId": "c6b0ac92-ce98-49e8-d526-f96ea1fe9ab0"
   },
   "outputs": [
    {
     "name": "stderr",
     "output_type": "stream",
     "text": [
      "INFO:fbprophet:Disabling daily seasonality. Run prophet with daily_seasonality=True to override this.\n",
      "C:\\Users\\saija\\anaconda3\\lib\\site-packages\\fbprophet\\forecaster.py:891: FutureWarning: The frame.append method is deprecated and will be removed from pandas in a future version. Use pandas.concat instead.\n",
      "  components = components.append(new_comp)\n"
     ]
    },
    {
     "data": {
      "text/plain": [
       "<fbprophet.forecaster.Prophet at 0x288c7b29160>"
      ]
     },
     "execution_count": 43,
     "metadata": {},
     "output_type": "execute_result"
    }
   ],
   "source": [
    "prophet = Prophet(changepoint_prior_scale = 0.500, seasonality_prior_scale= 0.01, seasonality_mode='multiplicative')\n",
    "prophet.fit(prophet_df)\n",
    "\n"
   ]
  },
  {
   "cell_type": "code",
   "execution_count": 45,
   "metadata": {
    "colab": {
     "base_uri": "https://localhost:8080/",
     "height": 206
    },
    "id": "MZPtujhfO8Pc",
    "outputId": "4a8bfd3d-4977-4777-8222-42024b106cfb"
   },
   "outputs": [
    {
     "data": {
      "text/html": [
       "<div>\n",
       "<style scoped>\n",
       "    .dataframe tbody tr th:only-of-type {\n",
       "        vertical-align: middle;\n",
       "    }\n",
       "\n",
       "    .dataframe tbody tr th {\n",
       "        vertical-align: top;\n",
       "    }\n",
       "\n",
       "    .dataframe thead th {\n",
       "        text-align: right;\n",
       "    }\n",
       "</style>\n",
       "<table border=\"1\" class=\"dataframe\">\n",
       "  <thead>\n",
       "    <tr style=\"text-align: right;\">\n",
       "      <th></th>\n",
       "      <th>ds</th>\n",
       "    </tr>\n",
       "  </thead>\n",
       "  <tbody>\n",
       "    <tr>\n",
       "      <th>1241</th>\n",
       "      <td>2022-03-10 04:00:00</td>\n",
       "    </tr>\n",
       "    <tr>\n",
       "      <th>1242</th>\n",
       "      <td>2022-03-11 04:00:00</td>\n",
       "    </tr>\n",
       "    <tr>\n",
       "      <th>1243</th>\n",
       "      <td>2022-03-12 04:00:00</td>\n",
       "    </tr>\n",
       "    <tr>\n",
       "      <th>1244</th>\n",
       "      <td>2022-03-13 04:00:00</td>\n",
       "    </tr>\n",
       "    <tr>\n",
       "      <th>1245</th>\n",
       "      <td>2022-03-14 04:00:00</td>\n",
       "    </tr>\n",
       "  </tbody>\n",
       "</table>\n",
       "</div>"
      ],
      "text/plain": [
       "                      ds\n",
       "1241 2022-03-10 04:00:00\n",
       "1242 2022-03-11 04:00:00\n",
       "1243 2022-03-12 04:00:00\n",
       "1244 2022-03-13 04:00:00\n",
       "1245 2022-03-14 04:00:00"
      ]
     },
     "execution_count": 45,
     "metadata": {},
     "output_type": "execute_result"
    }
   ],
   "source": [
    "future = prophet.make_future_dataframe(periods=len(prophet_df[900:]))\n",
    "future.tail()"
   ]
  },
  {
   "cell_type": "code",
   "execution_count": 46,
   "metadata": {
    "colab": {
     "base_uri": "https://localhost:8080/",
     "height": 269
    },
    "id": "bd9eJ3zwO8Pc",
    "outputId": "023f3bd1-7049-46aa-a34d-4abd4e15e703"
   },
   "outputs": [
    {
     "name": "stderr",
     "output_type": "stream",
     "text": [
      "C:\\Users\\saija\\anaconda3\\lib\\site-packages\\fbprophet\\forecaster.py:891: FutureWarning: The frame.append method is deprecated and will be removed from pandas in a future version. Use pandas.concat instead.\n",
      "  components = components.append(new_comp)\n",
      "C:\\Users\\saija\\anaconda3\\lib\\site-packages\\fbprophet\\forecaster.py:891: FutureWarning: The frame.append method is deprecated and will be removed from pandas in a future version. Use pandas.concat instead.\n",
      "  components = components.append(new_comp)\n"
     ]
    },
    {
     "data": {
      "text/html": [
       "<div>\n",
       "<style scoped>\n",
       "    .dataframe tbody tr th:only-of-type {\n",
       "        vertical-align: middle;\n",
       "    }\n",
       "\n",
       "    .dataframe tbody tr th {\n",
       "        vertical-align: top;\n",
       "    }\n",
       "\n",
       "    .dataframe thead th {\n",
       "        text-align: right;\n",
       "    }\n",
       "</style>\n",
       "<table border=\"1\" class=\"dataframe\">\n",
       "  <thead>\n",
       "    <tr style=\"text-align: right;\">\n",
       "      <th></th>\n",
       "      <th>ds</th>\n",
       "      <th>yhat</th>\n",
       "      <th>yhat_lower</th>\n",
       "      <th>yhat_upper</th>\n",
       "    </tr>\n",
       "  </thead>\n",
       "  <tbody>\n",
       "    <tr>\n",
       "      <th>1239</th>\n",
       "      <td>2022-03-08 04:00:00</td>\n",
       "      <td>3809.692825</td>\n",
       "      <td>3222.627332</td>\n",
       "      <td>4467.151613</td>\n",
       "    </tr>\n",
       "    <tr>\n",
       "      <th>1240</th>\n",
       "      <td>2022-03-09 04:00:00</td>\n",
       "      <td>3832.359260</td>\n",
       "      <td>3188.993689</td>\n",
       "      <td>4483.818488</td>\n",
       "    </tr>\n",
       "    <tr>\n",
       "      <th>1241</th>\n",
       "      <td>2022-03-10 04:00:00</td>\n",
       "      <td>3841.479346</td>\n",
       "      <td>3221.898933</td>\n",
       "      <td>4488.698799</td>\n",
       "    </tr>\n",
       "    <tr>\n",
       "      <th>1242</th>\n",
       "      <td>2022-03-11 04:00:00</td>\n",
       "      <td>3856.250141</td>\n",
       "      <td>3233.355418</td>\n",
       "      <td>4530.149841</td>\n",
       "    </tr>\n",
       "    <tr>\n",
       "      <th>1243</th>\n",
       "      <td>2022-03-12 04:00:00</td>\n",
       "      <td>3862.509038</td>\n",
       "      <td>3231.635530</td>\n",
       "      <td>4530.075485</td>\n",
       "    </tr>\n",
       "    <tr>\n",
       "      <th>1244</th>\n",
       "      <td>2022-03-13 04:00:00</td>\n",
       "      <td>3874.981018</td>\n",
       "      <td>3210.435923</td>\n",
       "      <td>4569.227684</td>\n",
       "    </tr>\n",
       "    <tr>\n",
       "      <th>1245</th>\n",
       "      <td>2022-03-14 04:00:00</td>\n",
       "      <td>3902.742725</td>\n",
       "      <td>3257.308526</td>\n",
       "      <td>4602.481347</td>\n",
       "    </tr>\n",
       "  </tbody>\n",
       "</table>\n",
       "</div>"
      ],
      "text/plain": [
       "                      ds         yhat   yhat_lower   yhat_upper\n",
       "1239 2022-03-08 04:00:00  3809.692825  3222.627332  4467.151613\n",
       "1240 2022-03-09 04:00:00  3832.359260  3188.993689  4483.818488\n",
       "1241 2022-03-10 04:00:00  3841.479346  3221.898933  4488.698799\n",
       "1242 2022-03-11 04:00:00  3856.250141  3233.355418  4530.149841\n",
       "1243 2022-03-12 04:00:00  3862.509038  3231.635530  4530.075485\n",
       "1244 2022-03-13 04:00:00  3874.981018  3210.435923  4569.227684\n",
       "1245 2022-03-14 04:00:00  3902.742725  3257.308526  4602.481347"
      ]
     },
     "execution_count": 46,
     "metadata": {},
     "output_type": "execute_result"
    }
   ],
   "source": [
    "forecast = prophet.predict(future)\n",
    "forecast[['ds', 'yhat', 'yhat_lower', 'yhat_upper']].tail(7)"
   ]
  },
  {
   "cell_type": "code",
   "execution_count": 47,
   "metadata": {
    "colab": {
     "base_uri": "https://localhost:8080/",
     "height": 865
    },
    "id": "2SLQ5fAqO8Pc",
    "outputId": "9106d4d9-fdc3-4007-9a25-5cbd415290ff"
   },
   "outputs": [
    {
     "data": {
      "image/png": "[encoded data removed]",
      "text/plain": [
       "<Figure size 720x432 with 1 Axes>"
      ]
     },
     "execution_count": 47,
     "metadata": {},
     "output_type": "execute_result"
    },
    {
     "data": {
      "image/png": "[encoded data removed]",
      "text/plain": [
       "<Figure size 720x432 with 1 Axes>"
      ]
     },
     "metadata": {},
     "output_type": "display_data"
    }
   ],
   "source": [
    "prophet.plot(forecast)"
   ]
  },
  {
   "cell_type": "code",
   "execution_count": 48,
   "metadata": {
    "id": "-M7xq69hO8Pd"
   },
   "outputs": [
    {
     "data": {
      "text/html": [
       "<div>\n",
       "<style scoped>\n",
       "    .dataframe tbody tr th:only-of-type {\n",
       "        vertical-align: middle;\n",
       "    }\n",
       "\n",
       "    .dataframe tbody tr th {\n",
       "        vertical-align: top;\n",
       "    }\n",
       "\n",
       "    .dataframe thead th {\n",
       "        text-align: right;\n",
       "    }\n",
       "</style>\n",
       "<table border=\"1\" class=\"dataframe\">\n",
       "  <thead>\n",
       "    <tr style=\"text-align: right;\">\n",
       "      <th></th>\n",
       "      <th>ds</th>\n",
       "      <th>trend</th>\n",
       "      <th>yhat_lower</th>\n",
       "      <th>yhat_upper</th>\n",
       "      <th>trend_lower</th>\n",
       "      <th>trend_upper</th>\n",
       "      <th>multiplicative_terms</th>\n",
       "      <th>multiplicative_terms_lower</th>\n",
       "      <th>multiplicative_terms_upper</th>\n",
       "      <th>weekly</th>\n",
       "      <th>weekly_lower</th>\n",
       "      <th>weekly_upper</th>\n",
       "      <th>yearly</th>\n",
       "      <th>yearly_lower</th>\n",
       "      <th>yearly_upper</th>\n",
       "      <th>additive_terms</th>\n",
       "      <th>additive_terms_lower</th>\n",
       "      <th>additive_terms_upper</th>\n",
       "      <th>yhat</th>\n",
       "    </tr>\n",
       "  </thead>\n",
       "  <tbody>\n",
       "    <tr>\n",
       "      <th>0</th>\n",
       "      <td>2018-10-16 04:00:00</td>\n",
       "      <td>201.892062</td>\n",
       "      <td>53.055295</td>\n",
       "      <td>350.137846</td>\n",
       "      <td>201.892062</td>\n",
       "      <td>201.892062</td>\n",
       "      <td>0.005944</td>\n",
       "      <td>0.005944</td>\n",
       "      <td>0.005944</td>\n",
       "      <td>-0.003001</td>\n",
       "      <td>-0.003001</td>\n",
       "      <td>-0.003001</td>\n",
       "      <td>0.008945</td>\n",
       "      <td>0.008945</td>\n",
       "      <td>0.008945</td>\n",
       "      <td>0.0</td>\n",
       "      <td>0.0</td>\n",
       "      <td>0.0</td>\n",
       "      <td>203.092164</td>\n",
       "    </tr>\n",
       "    <tr>\n",
       "      <th>1</th>\n",
       "      <td>2018-10-17 04:00:00</td>\n",
       "      <td>200.344132</td>\n",
       "      <td>63.704495</td>\n",
       "      <td>359.687576</td>\n",
       "      <td>200.344132</td>\n",
       "      <td>200.344132</td>\n",
       "      <td>0.019225</td>\n",
       "      <td>0.019225</td>\n",
       "      <td>0.019225</td>\n",
       "      <td>0.002241</td>\n",
       "      <td>0.002241</td>\n",
       "      <td>0.002241</td>\n",
       "      <td>0.016984</td>\n",
       "      <td>0.016984</td>\n",
       "      <td>0.016984</td>\n",
       "      <td>0.0</td>\n",
       "      <td>0.0</td>\n",
       "      <td>0.0</td>\n",
       "      <td>204.195835</td>\n",
       "    </tr>\n",
       "    <tr>\n",
       "      <th>2</th>\n",
       "      <td>2018-10-18 04:00:00</td>\n",
       "      <td>198.796202</td>\n",
       "      <td>57.158241</td>\n",
       "      <td>344.979483</td>\n",
       "      <td>198.796202</td>\n",
       "      <td>198.796202</td>\n",
       "      <td>0.027373</td>\n",
       "      <td>0.027373</td>\n",
       "      <td>0.027373</td>\n",
       "      <td>0.002877</td>\n",
       "      <td>0.002877</td>\n",
       "      <td>0.002877</td>\n",
       "      <td>0.024496</td>\n",
       "      <td>0.024496</td>\n",
       "      <td>0.024496</td>\n",
       "      <td>0.0</td>\n",
       "      <td>0.0</td>\n",
       "      <td>0.0</td>\n",
       "      <td>204.237757</td>\n",
       "    </tr>\n",
       "    <tr>\n",
       "      <th>3</th>\n",
       "      <td>2018-10-19 04:00:00</td>\n",
       "      <td>197.248272</td>\n",
       "      <td>57.638985</td>\n",
       "      <td>344.203306</td>\n",
       "      <td>197.248272</td>\n",
       "      <td>197.248272</td>\n",
       "      <td>0.034615</td>\n",
       "      <td>0.034615</td>\n",
       "      <td>0.034615</td>\n",
       "      <td>0.003268</td>\n",
       "      <td>0.003268</td>\n",
       "      <td>0.003268</td>\n",
       "      <td>0.031347</td>\n",
       "      <td>0.031347</td>\n",
       "      <td>0.031347</td>\n",
       "      <td>0.0</td>\n",
       "      <td>0.0</td>\n",
       "      <td>0.0</td>\n",
       "      <td>204.075966</td>\n",
       "    </tr>\n",
       "    <tr>\n",
       "      <th>4</th>\n",
       "      <td>2018-10-20 04:00:00</td>\n",
       "      <td>195.700342</td>\n",
       "      <td>54.605302</td>\n",
       "      <td>336.926698</td>\n",
       "      <td>195.700342</td>\n",
       "      <td>195.700342</td>\n",
       "      <td>0.037746</td>\n",
       "      <td>0.037746</td>\n",
       "      <td>0.037746</td>\n",
       "      <td>0.000325</td>\n",
       "      <td>0.000325</td>\n",
       "      <td>0.000325</td>\n",
       "      <td>0.037421</td>\n",
       "      <td>0.037421</td>\n",
       "      <td>0.037421</td>\n",
       "      <td>0.0</td>\n",
       "      <td>0.0</td>\n",
       "      <td>0.0</td>\n",
       "      <td>203.087195</td>\n",
       "    </tr>\n",
       "    <tr>\n",
       "      <th>...</th>\n",
       "      <td>...</td>\n",
       "      <td>...</td>\n",
       "      <td>...</td>\n",
       "      <td>...</td>\n",
       "      <td>...</td>\n",
       "      <td>...</td>\n",
       "      <td>...</td>\n",
       "      <td>...</td>\n",
       "      <td>...</td>\n",
       "      <td>...</td>\n",
       "      <td>...</td>\n",
       "      <td>...</td>\n",
       "      <td>...</td>\n",
       "      <td>...</td>\n",
       "      <td>...</td>\n",
       "      <td>...</td>\n",
       "      <td>...</td>\n",
       "      <td>...</td>\n",
       "      <td>...</td>\n",
       "    </tr>\n",
       "    <tr>\n",
       "      <th>1241</th>\n",
       "      <td>2022-03-10 04:00:00</td>\n",
       "      <td>4458.757867</td>\n",
       "      <td>3221.898933</td>\n",
       "      <td>4488.698799</td>\n",
       "      <td>3783.889630</td>\n",
       "      <td>5218.009800</td>\n",
       "      <td>-0.138442</td>\n",
       "      <td>-0.138442</td>\n",
       "      <td>-0.138442</td>\n",
       "      <td>0.002877</td>\n",
       "      <td>0.002877</td>\n",
       "      <td>0.002877</td>\n",
       "      <td>-0.141319</td>\n",
       "      <td>-0.141319</td>\n",
       "      <td>-0.141319</td>\n",
       "      <td>0.0</td>\n",
       "      <td>0.0</td>\n",
       "      <td>0.0</td>\n",
       "      <td>3841.479346</td>\n",
       "    </tr>\n",
       "    <tr>\n",
       "      <th>1242</th>\n",
       "      <td>2022-03-11 04:00:00</td>\n",
       "      <td>4465.706490</td>\n",
       "      <td>3233.355418</td>\n",
       "      <td>4530.149841</td>\n",
       "      <td>3789.457687</td>\n",
       "      <td>5229.563931</td>\n",
       "      <td>-0.136475</td>\n",
       "      <td>-0.136475</td>\n",
       "      <td>-0.136475</td>\n",
       "      <td>0.003268</td>\n",
       "      <td>0.003268</td>\n",
       "      <td>0.003268</td>\n",
       "      <td>-0.139743</td>\n",
       "      <td>-0.139743</td>\n",
       "      <td>-0.139743</td>\n",
       "      <td>0.0</td>\n",
       "      <td>0.0</td>\n",
       "      <td>0.0</td>\n",
       "      <td>3856.250141</td>\n",
       "    </tr>\n",
       "    <tr>\n",
       "      <th>1243</th>\n",
       "      <td>2022-03-12 04:00:00</td>\n",
       "      <td>4472.655114</td>\n",
       "      <td>3231.635530</td>\n",
       "      <td>4530.075485</td>\n",
       "      <td>3782.873728</td>\n",
       "      <td>5240.779416</td>\n",
       "      <td>-0.136417</td>\n",
       "      <td>-0.136417</td>\n",
       "      <td>-0.136417</td>\n",
       "      <td>0.000325</td>\n",
       "      <td>0.000325</td>\n",
       "      <td>0.000325</td>\n",
       "      <td>-0.136742</td>\n",
       "      <td>-0.136742</td>\n",
       "      <td>-0.136742</td>\n",
       "      <td>0.0</td>\n",
       "      <td>0.0</td>\n",
       "      <td>0.0</td>\n",
       "      <td>3862.509038</td>\n",
       "    </tr>\n",
       "    <tr>\n",
       "      <th>1244</th>\n",
       "      <td>2022-03-13 04:00:00</td>\n",
       "      <td>4479.603737</td>\n",
       "      <td>3210.435923</td>\n",
       "      <td>4569.227684</td>\n",
       "      <td>3783.780005</td>\n",
       "      <td>5254.254656</td>\n",
       "      <td>-0.134972</td>\n",
       "      <td>-0.134972</td>\n",
       "      <td>-0.134972</td>\n",
       "      <td>-0.002541</td>\n",
       "      <td>-0.002541</td>\n",
       "      <td>-0.002541</td>\n",
       "      <td>-0.132431</td>\n",
       "      <td>-0.132431</td>\n",
       "      <td>-0.132431</td>\n",
       "      <td>0.0</td>\n",
       "      <td>0.0</td>\n",
       "      <td>0.0</td>\n",
       "      <td>3874.981018</td>\n",
       "    </tr>\n",
       "    <tr>\n",
       "      <th>1245</th>\n",
       "      <td>2022-03-14 04:00:00</td>\n",
       "      <td>4486.552360</td>\n",
       "      <td>3257.308526</td>\n",
       "      <td>4602.481347</td>\n",
       "      <td>3785.257392</td>\n",
       "      <td>5265.211152</td>\n",
       "      <td>-0.130124</td>\n",
       "      <td>-0.130124</td>\n",
       "      <td>-0.130124</td>\n",
       "      <td>-0.003170</td>\n",
       "      <td>-0.003170</td>\n",
       "      <td>-0.003170</td>\n",
       "      <td>-0.126955</td>\n",
       "      <td>-0.126955</td>\n",
       "      <td>-0.126955</td>\n",
       "      <td>0.0</td>\n",
       "      <td>0.0</td>\n",
       "      <td>0.0</td>\n",
       "      <td>3902.742725</td>\n",
       "    </tr>\n",
       "  </tbody>\n",
       "</table>\n",
       "<p>1246 rows × 19 columns</p>\n",
       "</div>"
      ],
      "text/plain": [
       "                      ds        trend   yhat_lower   yhat_upper  trend_lower  \\\n",
       "0    2018-10-16 04:00:00   201.892062    53.055295   350.137846   201.892062   \n",
       "1    2018-10-17 04:00:00   200.344132    63.704495   359.687576   200.344132   \n",
       "2    2018-10-18 04:00:00   198.796202    57.158241   344.979483   198.796202   \n",
       "3    2018-10-19 04:00:00   197.248272    57.638985   344.203306   197.248272   \n",
       "4    2018-10-20 04:00:00   195.700342    54.605302   336.926698   195.700342   \n",
       "...                  ...          ...          ...          ...          ...   \n",
       "1241 2022-03-10 04:00:00  4458.757867  3221.898933  4488.698799  3783.889630   \n",
       "1242 2022-03-11 04:00:00  4465.706490  3233.355418  4530.149841  3789.457687   \n",
       "1243 2022-03-12 04:00:00  4472.655114  3231.635530  4530.075485  3782.873728   \n",
       "1244 2022-03-13 04:00:00  4479.603737  3210.435923  4569.227684  3783.780005   \n",
       "1245 2022-03-14 04:00:00  4486.552360  3257.308526  4602.481347  3785.257392   \n",
       "\n",
       "      trend_upper  multiplicative_terms  multiplicative_terms_lower  \\\n",
       "0      201.892062              0.005944                    0.005944   \n",
       "1      200.344132              0.019225                    0.019225   \n",
       "2      198.796202              0.027373                    0.027373   \n",
       "3      197.248272              0.034615                    0.034615   \n",
       "4      195.700342              0.037746                    0.037746   \n",
       "...           ...                   ...                         ...   \n",
       "1241  5218.009800             -0.138442                   -0.138442   \n",
       "1242  5229.563931             -0.136475                   -0.136475   \n",
       "1243  5240.779416             -0.136417                   -0.136417   \n",
       "1244  5254.254656             -0.134972                   -0.134972   \n",
       "1245  5265.211152             -0.130124                   -0.130124   \n",
       "\n",
       "      multiplicative_terms_upper    weekly  weekly_lower  weekly_upper  \\\n",
       "0                       0.005944 -0.003001     -0.003001     -0.003001   \n",
       "1                       0.019225  0.002241      0.002241      0.002241   \n",
       "2                       0.027373  0.002877      0.002877      0.002877   \n",
       "3                       0.034615  0.003268      0.003268      0.003268   \n",
       "4                       0.037746  0.000325      0.000325      0.000325   \n",
       "...                          ...       ...           ...           ...   \n",
       "1241                   -0.138442  0.002877      0.002877      0.002877   \n",
       "1242                   -0.136475  0.003268      0.003268      0.003268   \n",
       "1243                   -0.136417  0.000325      0.000325      0.000325   \n",
       "1244                   -0.134972 -0.002541     -0.002541     -0.002541   \n",
       "1245                   -0.130124 -0.003170     -0.003170     -0.003170   \n",
       "\n",
       "        yearly  yearly_lower  yearly_upper  additive_terms  \\\n",
       "0     0.008945      0.008945      0.008945             0.0   \n",
       "1     0.016984      0.016984      0.016984             0.0   \n",
       "2     0.024496      0.024496      0.024496             0.0   \n",
       "3     0.031347      0.031347      0.031347             0.0   \n",
       "4     0.037421      0.037421      0.037421             0.0   \n",
       "...        ...           ...           ...             ...   \n",
       "1241 -0.141319     -0.141319     -0.141319             0.0   \n",
       "1242 -0.139743     -0.139743     -0.139743             0.0   \n",
       "1243 -0.136742     -0.136742     -0.136742             0.0   \n",
       "1244 -0.132431     -0.132431     -0.132431             0.0   \n",
       "1245 -0.126955     -0.126955     -0.126955             0.0   \n",
       "\n",
       "      additive_terms_lower  additive_terms_upper         yhat  \n",
       "0                      0.0                   0.0   203.092164  \n",
       "1                      0.0                   0.0   204.195835  \n",
       "2                      0.0                   0.0   204.237757  \n",
       "3                      0.0                   0.0   204.075966  \n",
       "4                      0.0                   0.0   203.087195  \n",
       "...                    ...                   ...          ...  \n",
       "1241                   0.0                   0.0  3841.479346  \n",
       "1242                   0.0                   0.0  3856.250141  \n",
       "1243                   0.0                   0.0  3862.509038  \n",
       "1244                   0.0                   0.0  3874.981018  \n",
       "1245                   0.0                   0.0  3902.742725  \n",
       "\n",
       "[1246 rows x 19 columns]"
      ]
     },
     "execution_count": 48,
     "metadata": {},
     "output_type": "execute_result"
    }
   ],
   "source": [
    "forecast"
   ]
  },
  {
   "cell_type": "code",
   "execution_count": 50,
   "metadata": {},
   "outputs": [
    {
     "data": {
      "text/plain": [
       "{'k': array([[-0.38268001]]),\n",
       " 'm': array([[0.04655957]]),\n",
       " 'delta': array([[ 1.39044700e-01,  3.05701674e-01,  1.24362383e-02,\n",
       "          4.12104553e-08, -1.10758061e-05,  9.89781999e-01,\n",
       "         -9.70357356e-01, -9.86016279e-01,  8.20091172e-01,\n",
       "          1.15910698e-06, -1.45318750e-02,  2.29146736e-08,\n",
       "          6.26507061e-01, -7.62991976e-01, -8.46890418e-06,\n",
       "          3.36867851e-01,  6.18382305e-01, -3.85104472e-06,\n",
       "         -7.56013182e-01,  5.93008115e-07,  4.63150117e-01,\n",
       "          5.56994360e-01,  3.39584829e+00,  4.72474557e-07,\n",
       "         -2.67435184e+00]]),\n",
       " 'sigma_obs': array([[0.02621989]]),\n",
       " 'beta': array([[ 0.02476644,  0.01264058, -0.06658055, -0.05302741,  0.03966992,\n",
       "          0.10818824,  0.01831562, -0.09666454, -0.00603333, -0.00203466,\n",
       "          0.00349368,  0.02715167,  0.00306186, -0.03563905, -0.01885431,\n",
       "          0.00834257,  0.041357  ,  0.01522892,  0.01236779, -0.00439104,\n",
       "          0.00173309,  0.00322122, -0.00021258,  0.00021536, -0.00070483,\n",
       "         -0.00044834]]),\n",
       " 'trend': array([[0.04655957, 0.04620259, 0.04584561, ..., 0.75424005, 0.75584252,\n",
       "         0.75744498]]),\n",
       " 'Y': array([[0.04683633, 0.04709085, 0.04710052, ..., 0.74794966, 0.74243864,\n",
       "         0.7409585 ]]),\n",
       " 'beta_m': array([[ 0.02476644,  0.01264058, -0.06658055, -0.05302741,  0.03966992,\n",
       "          0.10818824,  0.01831562, -0.09666454, -0.00603333, -0.00203466,\n",
       "          0.00349368,  0.02715167,  0.00306186, -0.03563905, -0.01885431,\n",
       "          0.00834257,  0.041357  ,  0.01522892,  0.01236779, -0.00439104,\n",
       "          0.00173309,  0.00322122, -0.00021258,  0.00021536, -0.00070483,\n",
       "         -0.00044834]]),\n",
       " 'beta_a': array([[ 0.,  0., -0., -0.,  0.,  0.,  0., -0., -0., -0.,  0.,  0.,  0.,\n",
       "         -0., -0.,  0.,  0.,  0.,  0., -0.,  0.,  0., -0.,  0., -0., -0.]])}"
      ]
     },
     "execution_count": 50,
     "metadata": {},
     "output_type": "execute_result"
    }
   ],
   "source": [
    "prophet.params"
   ]
  },
  {
   "cell_type": "code",
   "execution_count": null,
   "metadata": {},
   "outputs": [],
   "source": []
  }
 ],
 "metadata": {
  "colab": {
   "collapsed_sections": [],
   "name": "crypto.ipynb",
   "provenance": []
  },
  "kernelspec": {
   "display_name": "Python 3",
   "language": "python",
   "name": "python3"
  },
  "language_info": {
   "codemirror_mode": {
    "name": "ipython",
    "version": 3
   },
   "file_extension": ".py",
   "mimetype": "text/x-python",
   "name": "python",
   "nbconvert_exporter": "python",
   "pygments_lexer": "ipython3",
   "version": "3.8.5"
  }
 },
 "nbformat": 4,
 "nbformat_minor": 1
}
