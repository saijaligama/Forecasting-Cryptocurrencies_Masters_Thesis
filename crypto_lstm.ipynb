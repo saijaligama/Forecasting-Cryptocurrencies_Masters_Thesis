{
 "cells": [
  {
   "cell_type": "code",
   "execution_count": 10,
   "metadata": {
    "id": "UON9fcdSXRHB"
   },
   "outputs": [],
   "source": [
    "import pandas as pd\n",
    "import matplotlib.pyplot as plt\n",
    "import numpy as np\n",
    "import os\n",
    "%matplotlib inline"
   ]
  },
  {
   "cell_type": "code",
   "execution_count": 11,
   "metadata": {
    "id": "tp8ZS431XWmN"
   },
   "outputs": [],
   "source": [
    "df = pd.read_csv('btc_eth_ltc.csv',index_col='Date')"
   ]
  },
  {
   "cell_type": "code",
   "execution_count": 12,
   "metadata": {
    "colab": {
     "base_uri": "https://localhost:8080/",
     "height": 455
    },
    "id": "b-YNyNZnXdu2",
    "outputId": "c34a7389-c1c1-4c3f-b41f-ff7ef90728fd"
   },
   "outputs": [
    {
     "data": {
      "text/html": [
       "<div>\n",
       "<style scoped>\n",
       "    .dataframe tbody tr th:only-of-type {\n",
       "        vertical-align: middle;\n",
       "    }\n",
       "\n",
       "    .dataframe tbody tr th {\n",
       "        vertical-align: top;\n",
       "    }\n",
       "\n",
       "    .dataframe thead th {\n",
       "        text-align: right;\n",
       "    }\n",
       "</style>\n",
       "<table border=\"1\" class=\"dataframe\">\n",
       "  <thead>\n",
       "    <tr style=\"text-align: right;\">\n",
       "      <th></th>\n",
       "      <th>Unix Timestamp</th>\n",
       "      <th>Symbol</th>\n",
       "      <th>Open</th>\n",
       "      <th>High</th>\n",
       "      <th>Low</th>\n",
       "      <th>Close</th>\n",
       "      <th>Volume</th>\n",
       "    </tr>\n",
       "    <tr>\n",
       "      <th>Date</th>\n",
       "      <th></th>\n",
       "      <th></th>\n",
       "      <th></th>\n",
       "      <th></th>\n",
       "      <th></th>\n",
       "      <th></th>\n",
       "      <th></th>\n",
       "    </tr>\n",
       "  </thead>\n",
       "  <tbody>\n",
       "    <tr>\n",
       "      <th>2018-10-16 04:00:00</th>\n",
       "      <td>1539662400000</td>\n",
       "      <td>ETHUSD</td>\n",
       "      <td>202.67</td>\n",
       "      <td>207.89</td>\n",
       "      <td>202.50</td>\n",
       "      <td>205.86</td>\n",
       "      <td>21165.529375</td>\n",
       "    </tr>\n",
       "    <tr>\n",
       "      <th>2018-10-16 04:00:00</th>\n",
       "      <td>1539662400000</td>\n",
       "      <td>LTCUSD</td>\n",
       "      <td>0.00</td>\n",
       "      <td>55.20</td>\n",
       "      <td>0.00</td>\n",
       "      <td>52.92</td>\n",
       "      <td>5601.926989</td>\n",
       "    </tr>\n",
       "    <tr>\n",
       "      <th>2018-10-16 04:00:00</th>\n",
       "      <td>1539662400000</td>\n",
       "      <td>BTCUSD</td>\n",
       "      <td>6423.27</td>\n",
       "      <td>6489.99</td>\n",
       "      <td>6390.10</td>\n",
       "      <td>6444.08</td>\n",
       "      <td>2978.589591</td>\n",
       "    </tr>\n",
       "    <tr>\n",
       "      <th>2018-10-17 04:00:00</th>\n",
       "      <td>1539748800000</td>\n",
       "      <td>BTCUSD</td>\n",
       "      <td>6444.08</td>\n",
       "      <td>6487.77</td>\n",
       "      <td>6406.98</td>\n",
       "      <td>6459.26</td>\n",
       "      <td>1998.462064</td>\n",
       "    </tr>\n",
       "    <tr>\n",
       "      <th>2018-10-17 04:00:00</th>\n",
       "      <td>1539748800000</td>\n",
       "      <td>LTCUSD</td>\n",
       "      <td>52.92</td>\n",
       "      <td>54.50</td>\n",
       "      <td>52.43</td>\n",
       "      <td>53.52</td>\n",
       "      <td>4206.391895</td>\n",
       "    </tr>\n",
       "    <tr>\n",
       "      <th>...</th>\n",
       "      <td>...</td>\n",
       "      <td>...</td>\n",
       "      <td>...</td>\n",
       "      <td>...</td>\n",
       "      <td>...</td>\n",
       "      <td>...</td>\n",
       "      <td>...</td>\n",
       "    </tr>\n",
       "    <tr>\n",
       "      <th>2021-09-21 04:00:00</th>\n",
       "      <td>1632196800000</td>\n",
       "      <td>ETHUSD</td>\n",
       "      <td>2998.29</td>\n",
       "      <td>3104.42</td>\n",
       "      <td>2650.85</td>\n",
       "      <td>2869.31</td>\n",
       "      <td>46289.916678</td>\n",
       "    </tr>\n",
       "    <tr>\n",
       "      <th>2021-09-21 04:00:00</th>\n",
       "      <td>1632196800000</td>\n",
       "      <td>LTCUSD</td>\n",
       "      <td>159.47</td>\n",
       "      <td>162.20</td>\n",
       "      <td>144.62</td>\n",
       "      <td>151.48</td>\n",
       "      <td>46606.739750</td>\n",
       "    </tr>\n",
       "    <tr>\n",
       "      <th>2021-09-22 04:00:00</th>\n",
       "      <td>1632283200000</td>\n",
       "      <td>BTCUSD</td>\n",
       "      <td>42089.88</td>\n",
       "      <td>44047.48</td>\n",
       "      <td>41836.59</td>\n",
       "      <td>43559.58</td>\n",
       "      <td>1051.581492</td>\n",
       "    </tr>\n",
       "    <tr>\n",
       "      <th>2021-09-22 04:00:00</th>\n",
       "      <td>1632283200000</td>\n",
       "      <td>ETHUSD</td>\n",
       "      <td>2869.31</td>\n",
       "      <td>3097.00</td>\n",
       "      <td>2869.31</td>\n",
       "      <td>3072.44</td>\n",
       "      <td>11106.197241</td>\n",
       "    </tr>\n",
       "    <tr>\n",
       "      <th>2021-09-22 04:00:00</th>\n",
       "      <td>1632283200000</td>\n",
       "      <td>LTCUSD</td>\n",
       "      <td>151.48</td>\n",
       "      <td>161.85</td>\n",
       "      <td>151.48</td>\n",
       "      <td>160.38</td>\n",
       "      <td>12445.036347</td>\n",
       "    </tr>\n",
       "  </tbody>\n",
       "</table>\n",
       "<p>3219 rows × 7 columns</p>\n",
       "</div>"
      ],
      "text/plain": [
       "                     Unix Timestamp  Symbol  ...     Close        Volume\n",
       "Date                                         ...                        \n",
       "2018-10-16 04:00:00   1539662400000  ETHUSD  ...    205.86  21165.529375\n",
       "2018-10-16 04:00:00   1539662400000  LTCUSD  ...     52.92   5601.926989\n",
       "2018-10-16 04:00:00   1539662400000  BTCUSD  ...   6444.08   2978.589591\n",
       "2018-10-17 04:00:00   1539748800000  BTCUSD  ...   6459.26   1998.462064\n",
       "2018-10-17 04:00:00   1539748800000  LTCUSD  ...     53.52   4206.391895\n",
       "...                             ...     ...  ...       ...           ...\n",
       "2021-09-21 04:00:00   1632196800000  ETHUSD  ...   2869.31  46289.916678\n",
       "2021-09-21 04:00:00   1632196800000  LTCUSD  ...    151.48  46606.739750\n",
       "2021-09-22 04:00:00   1632283200000  BTCUSD  ...  43559.58   1051.581492\n",
       "2021-09-22 04:00:00   1632283200000  ETHUSD  ...   3072.44  11106.197241\n",
       "2021-09-22 04:00:00   1632283200000  LTCUSD  ...    160.38  12445.036347\n",
       "\n",
       "[3219 rows x 7 columns]"
      ]
     },
     "execution_count": 12,
     "metadata": {},
     "output_type": "execute_result"
    }
   ],
   "source": [
    "df = df.sort_values('Date')\n",
    "df"
   ]
  },
  {
   "cell_type": "code",
   "execution_count": 13,
   "metadata": {
    "colab": {
     "base_uri": "https://localhost:8080/"
    },
    "id": "oq8L5TXjXgOk",
    "outputId": "92ee0ff8-c7af-47f8-a88e-02cf9f06815a"
   },
   "outputs": [
    {
     "data": {
      "text/plain": [
       "array(['ETHUSD', 'LTCUSD', 'BTCUSD'], dtype=object)"
      ]
     },
     "execution_count": 13,
     "metadata": {},
     "output_type": "execute_result"
    }
   ],
   "source": [
    "df['Symbol'].unique()"
   ]
  },
  {
   "cell_type": "code",
   "execution_count": 14,
   "metadata": {
    "colab": {
     "base_uri": "https://localhost:8080/"
    },
    "id": "5364onW0ZKJE",
    "outputId": "15c02546-b03a-4ab2-b02b-3765c71eae7d"
   },
   "outputs": [
    {
     "data": {
      "text/plain": [
       "Symbol\n",
       "BTCUSD    1073\n",
       "ETHUSD    1073\n",
       "LTCUSD    1073\n",
       "Name: Unix Timestamp, dtype: int64"
      ]
     },
     "execution_count": 14,
     "metadata": {},
     "output_type": "execute_result"
    }
   ],
   "source": [
    "df.groupby('Symbol')['Unix Timestamp'].nunique()"
   ]
  },
  {
   "cell_type": "code",
   "execution_count": 15,
   "metadata": {
    "colab": {
     "base_uri": "https://localhost:8080/",
     "height": 298
    },
    "id": "OQOEwsh8ddcT",
    "outputId": "16ba5186-6420-4230-a3fc-9883a9411c5b"
   },
   "outputs": [
    {
     "data": {
      "text/plain": [
       "<BarContainer object of 3 artists>"
      ]
     },
     "execution_count": 15,
     "metadata": {},
     "output_type": "execute_result"
    },
    {
     "data": {
      "image/png": "[encoded data removed]",
      "text/plain": [
       "<Figure size 432x288 with 1 Axes>"
      ]
     },
     "metadata": {
      "needs_background": "light"
     },
     "output_type": "display_data"
    }
   ],
   "source": [
    "plt.title('Number of samples per coin')\n",
    "plt.bar(df['Symbol'].unique(),df.groupby('Symbol')['Unix Timestamp'].nunique())"
   ]
  },
  {
   "cell_type": "code",
   "execution_count": 16,
   "metadata": {
    "colab": {
     "base_uri": "https://localhost:8080/"
    },
    "id": "wp7rel4ud05A",
    "outputId": "70e11145-2a29-4b8b-ad96-83e076f3a118"
   },
   "outputs": [
    {
     "name": "stdout",
     "output_type": "stream",
     "text": [
      "ETHUSD\n",
      "LTCUSD\n",
      "BTCUSD\n"
     ]
    }
   ],
   "source": [
    "#Split dataframes\n",
    "list_df = {}\n",
    "for name in df['Symbol'].unique():\n",
    "    print(name)\n",
    "    list_df.update({name:df[df.Symbol==name]})"
   ]
  },
  {
   "cell_type": "code",
   "execution_count": 17,
   "metadata": {
    "id": "6HnWdfJDe7Xc"
   },
   "outputs": [],
   "source": [
    "ltc_df = list_df.get('LTCUSD')\n",
    "btc_df = list_df.get('BTCUSD')\n",
    "eth_df = list_df.get('ETHUSD')\n"
   ]
  },
  {
   "cell_type": "code",
   "execution_count": 18,
   "metadata": {
    "colab": {
     "base_uri": "https://localhost:8080/",
     "height": 455
    },
    "id": "EN9XVHHLfCcI",
    "outputId": "9ac35eaa-3975-4912-b048-f05354d653b9"
   },
   "outputs": [
    {
     "data": {
      "text/html": [
       "<div>\n",
       "<style scoped>\n",
       "    .dataframe tbody tr th:only-of-type {\n",
       "        vertical-align: middle;\n",
       "    }\n",
       "\n",
       "    .dataframe tbody tr th {\n",
       "        vertical-align: top;\n",
       "    }\n",
       "\n",
       "    .dataframe thead th {\n",
       "        text-align: right;\n",
       "    }\n",
       "</style>\n",
       "<table border=\"1\" class=\"dataframe\">\n",
       "  <thead>\n",
       "    <tr style=\"text-align: right;\">\n",
       "      <th></th>\n",
       "      <th>Unix Timestamp</th>\n",
       "      <th>Symbol</th>\n",
       "      <th>Open</th>\n",
       "      <th>High</th>\n",
       "      <th>Low</th>\n",
       "      <th>Close</th>\n",
       "      <th>Volume</th>\n",
       "    </tr>\n",
       "    <tr>\n",
       "      <th>Date</th>\n",
       "      <th></th>\n",
       "      <th></th>\n",
       "      <th></th>\n",
       "      <th></th>\n",
       "      <th></th>\n",
       "      <th></th>\n",
       "      <th></th>\n",
       "    </tr>\n",
       "  </thead>\n",
       "  <tbody>\n",
       "    <tr>\n",
       "      <th>2018-10-16 04:00:00</th>\n",
       "      <td>1539662400000</td>\n",
       "      <td>LTCUSD</td>\n",
       "      <td>0.00</td>\n",
       "      <td>55.20</td>\n",
       "      <td>0.00</td>\n",
       "      <td>52.92</td>\n",
       "      <td>5601.926989</td>\n",
       "    </tr>\n",
       "    <tr>\n",
       "      <th>2018-10-17 04:00:00</th>\n",
       "      <td>1539748800000</td>\n",
       "      <td>LTCUSD</td>\n",
       "      <td>52.92</td>\n",
       "      <td>54.50</td>\n",
       "      <td>52.43</td>\n",
       "      <td>53.52</td>\n",
       "      <td>4206.391895</td>\n",
       "    </tr>\n",
       "    <tr>\n",
       "      <th>2018-10-18 04:00:00</th>\n",
       "      <td>1539835200000</td>\n",
       "      <td>LTCUSD</td>\n",
       "      <td>53.52</td>\n",
       "      <td>53.87</td>\n",
       "      <td>51.25</td>\n",
       "      <td>51.88</td>\n",
       "      <td>3150.270139</td>\n",
       "    </tr>\n",
       "    <tr>\n",
       "      <th>2018-10-19 04:00:00</th>\n",
       "      <td>1539921600000</td>\n",
       "      <td>LTCUSD</td>\n",
       "      <td>51.88</td>\n",
       "      <td>51.88</td>\n",
       "      <td>51.88</td>\n",
       "      <td>51.88</td>\n",
       "      <td>0.000000</td>\n",
       "    </tr>\n",
       "    <tr>\n",
       "      <th>2018-10-20 04:00:00</th>\n",
       "      <td>1540008000000</td>\n",
       "      <td>LTCUSD</td>\n",
       "      <td>51.88</td>\n",
       "      <td>52.75</td>\n",
       "      <td>51.88</td>\n",
       "      <td>52.75</td>\n",
       "      <td>1.000000</td>\n",
       "    </tr>\n",
       "    <tr>\n",
       "      <th>...</th>\n",
       "      <td>...</td>\n",
       "      <td>...</td>\n",
       "      <td>...</td>\n",
       "      <td>...</td>\n",
       "      <td>...</td>\n",
       "      <td>...</td>\n",
       "      <td>...</td>\n",
       "    </tr>\n",
       "    <tr>\n",
       "      <th>2021-09-18 04:00:00</th>\n",
       "      <td>1631937600000</td>\n",
       "      <td>LTCUSD</td>\n",
       "      <td>182.08</td>\n",
       "      <td>185.74</td>\n",
       "      <td>178.43</td>\n",
       "      <td>179.44</td>\n",
       "      <td>21093.113429</td>\n",
       "    </tr>\n",
       "    <tr>\n",
       "      <th>2021-09-19 04:00:00</th>\n",
       "      <td>1632024000000</td>\n",
       "      <td>LTCUSD</td>\n",
       "      <td>179.44</td>\n",
       "      <td>181.60</td>\n",
       "      <td>163.50</td>\n",
       "      <td>167.01</td>\n",
       "      <td>31279.361709</td>\n",
       "    </tr>\n",
       "    <tr>\n",
       "      <th>2021-09-20 04:00:00</th>\n",
       "      <td>1632110400000</td>\n",
       "      <td>LTCUSD</td>\n",
       "      <td>167.01</td>\n",
       "      <td>168.18</td>\n",
       "      <td>150.22</td>\n",
       "      <td>159.47</td>\n",
       "      <td>86803.808889</td>\n",
       "    </tr>\n",
       "    <tr>\n",
       "      <th>2021-09-21 04:00:00</th>\n",
       "      <td>1632196800000</td>\n",
       "      <td>LTCUSD</td>\n",
       "      <td>159.47</td>\n",
       "      <td>162.20</td>\n",
       "      <td>144.62</td>\n",
       "      <td>151.48</td>\n",
       "      <td>46606.739750</td>\n",
       "    </tr>\n",
       "    <tr>\n",
       "      <th>2021-09-22 04:00:00</th>\n",
       "      <td>1632283200000</td>\n",
       "      <td>LTCUSD</td>\n",
       "      <td>151.48</td>\n",
       "      <td>161.85</td>\n",
       "      <td>151.48</td>\n",
       "      <td>160.38</td>\n",
       "      <td>12445.036347</td>\n",
       "    </tr>\n",
       "  </tbody>\n",
       "</table>\n",
       "<p>1073 rows × 7 columns</p>\n",
       "</div>"
      ],
      "text/plain": [
       "                     Unix Timestamp  Symbol  ...   Close        Volume\n",
       "Date                                         ...                      \n",
       "2018-10-16 04:00:00   1539662400000  LTCUSD  ...   52.92   5601.926989\n",
       "2018-10-17 04:00:00   1539748800000  LTCUSD  ...   53.52   4206.391895\n",
       "2018-10-18 04:00:00   1539835200000  LTCUSD  ...   51.88   3150.270139\n",
       "2018-10-19 04:00:00   1539921600000  LTCUSD  ...   51.88      0.000000\n",
       "2018-10-20 04:00:00   1540008000000  LTCUSD  ...   52.75      1.000000\n",
       "...                             ...     ...  ...     ...           ...\n",
       "2021-09-18 04:00:00   1631937600000  LTCUSD  ...  179.44  21093.113429\n",
       "2021-09-19 04:00:00   1632024000000  LTCUSD  ...  167.01  31279.361709\n",
       "2021-09-20 04:00:00   1632110400000  LTCUSD  ...  159.47  86803.808889\n",
       "2021-09-21 04:00:00   1632196800000  LTCUSD  ...  151.48  46606.739750\n",
       "2021-09-22 04:00:00   1632283200000  LTCUSD  ...  160.38  12445.036347\n",
       "\n",
       "[1073 rows x 7 columns]"
      ]
     },
     "execution_count": 18,
     "metadata": {},
     "output_type": "execute_result"
    }
   ],
   "source": [
    "ltc_df"
   ]
  },
  {
   "cell_type": "code",
   "execution_count": 19,
   "metadata": {
    "colab": {
     "base_uri": "https://localhost:8080/",
     "height": 296
    },
    "id": "S2niscEWfeXr",
    "outputId": "7f7c0704-ed46-4c34-cfa4-d916c939632b"
   },
   "outputs": [
    {
     "data": {
      "text/plain": [
       "<matplotlib.axes._subplots.AxesSubplot at 0x7f295e6c8ed0>"
      ]
     },
     "execution_count": 19,
     "metadata": {},
     "output_type": "execute_result"
    },
    {
     "data": {
      "image/png": "[encoded data removed]",
      "text/plain": [
       "<Figure size 432x288 with 1 Axes>"
      ]
     },
     "metadata": {
      "needs_background": "light"
     },
     "output_type": "display_data"
    }
   ],
   "source": [
    "ltc_df['Close'].plot()"
   ]
  },
  {
   "cell_type": "code",
   "execution_count": 67,
   "metadata": {
    "colab": {
     "base_uri": "https://localhost:8080/"
    },
    "id": "MIcARzPoHhr8",
    "outputId": "134ce2c7-a978-4a41-ac11-7965e55b6ee4"
   },
   "outputs": [
    {
     "name": "stderr",
     "output_type": "stream",
     "text": [
      "/usr/local/lib/python3.7/dist-packages/ipykernel_launcher.py:1: FutureWarning: The pandas.datetime class is deprecated and will be removed from pandas in a future version. Import from datetime module instead.\n",
      "  \"\"\"Entry point for launching an IPython kernel.\n"
     ]
    }
   ],
   "source": [
    "from pandas import datetime\n",
    "from pandas import read_csv\n",
    "from pandas import DataFrame\n",
    "from matplotlib import pyplot\n",
    "import tensorflow as tf\n",
    "from sklearn.model_selection import train_test_split\n",
    "from sklearn.preprocessing import MinMaxScaler\n",
    "from tensorflow.keras.models import Sequential\n",
    "from tensorflow.keras.layers import Dense, LSTM, Dropout, GRU, Bidirectional\n",
    "import math\n",
    "from sklearn.metrics import mean_squared_error, mean_absolute_error"
   ]
  },
  {
   "cell_type": "code",
   "execution_count": 89,
   "metadata": {
    "id": "s_cBkqsq_UZI"
   },
   "outputs": [],
   "source": [
    "# fit model\n",
    "def train_lstm(df, lookback = 365, forecast=7):\n",
    "    series = pd.DataFrame(df['Close'])\n",
    "    # plt.figure(figsize=(8,6))\n",
    "    # plt.title(\"Original\")\n",
    "    # plt.grid()\n",
    "    # plt.plot(series)\n",
    "    mm_scaler = MinMaxScaler((0,1))\n",
    "    mm_scaler.fit(series)\n",
    "    series = mm_scaler.transform(series)\n",
    "    # plt.figure(figsize=(8,6))\n",
    "    # plt.title(\"Scaled\")\n",
    "    # plt.grid()\n",
    "    # plt.plot(series)\n",
    "    X = []\n",
    "    y = []\n",
    "    for i in range(lookback, len(series)-forecast):\n",
    "        X.append(series[i-lookback:i,])\n",
    "        y.append(series[i:i+forecast])\n",
    "    X, y = np.array(X), np.array(y)\n",
    "    X_train = X[:int(0.7*len(X))]\n",
    "    X_test = X[int(0.7*len(X)):]\n",
    "\n",
    "    y_train = y[:int(0.7*len(y))]\n",
    "    y_test = y[int(0.7*len(y)):]\n",
    "    print(X_train.shape, y_train.shape, X_test.shape, y_test.shape)\n",
    "    def model_lstm(lookback):\n",
    "      model=Sequential()\n",
    "      model.add(LSTM(32, input_shape=(lookback,1), return_sequences=True))\n",
    "      model.add(LSTM(32, return_sequences=True))\n",
    "      model.add(LSTM(7))\n",
    "      model.compile(loss='mean_squared_error',  optimizer='adam',metrics = ['mse', 'mae'])\n",
    "      print(model.summary())\n",
    "      return model\n",
    "    lstm = model_lstm(lookback)\n",
    "    lstm.fit(X_train,y_train,validation_data=(X_test,y_test),verbose=0,batch_size=32,epochs=50,callbacks=[tf.keras.callbacks.EarlyStopping(patience=5)])\n",
    "    pred = lstm.predict(X_test)\n",
    "    plt.figure(figsize=(8,6))\n",
    "    plt.title(\"Predictions\")\n",
    "    plt.grid()\n",
    "    plt.plot([y[0,0] for y in y_test])\n",
    "    plt.plot([y[0] for y in pred])\n",
    "\n",
    "    return lstm, mm_scaler\n"
   ]
  },
  {
   "cell_type": "code",
   "execution_count": 164,
   "metadata": {
    "id": "BOK03_wIEZCK"
   },
   "outputs": [],
   "source": [
    "def forecast_lstm(lstm,df,scaler,lookback=365,forecast=7):\n",
    "    import datetime\n",
    "    series = pd.DataFrame(df['Close'])\n",
    "    series.index = pd.to_datetime(series.index)\n",
    "    max = series.index.max()\n",
    "    series = pd.DataFrame(df['Close'])\n",
    "    # plt.figure(figsize=(8,6))\n",
    "    # plt.title(\"Original\")\n",
    "    # plt.grid()\n",
    "    # plt.plot(series)\n",
    "    mm_scaler = scaler\n",
    "    series = mm_scaler.transform(series)\n",
    "    X = np.expand_dims(series[-lookback:,],axis=0)\n",
    "\n",
    "    predictions = pd.DataFrame(columns=['date','Close'])\n",
    "    # walk-forward validation\n",
    "    output = lstm.predict(X)\n",
    "    yhat = output[0]\n",
    "    dates = [max+datetime.timedelta(days=i) for i in range(forecast)]\n",
    "    df = pd.DataFrame(np.vstack([dates,yhat]).T,columns=['date','Close'])\n",
    "    df['Close'] = mm_scaler.inverse_transform(df['Close'].values.reshape(1,-1)).reshape(forecast)\n",
    "    predictions=pd.concat([predictions,df])\n",
    "\n",
    "    predictions.index = predictions['date']\n",
    "    predictions.drop('date',axis=1,inplace=True)\n",
    "    return predictions"
   ]
  },
  {
   "cell_type": "markdown",
   "metadata": {
    "id": "PSrUCB0vJ5_Z"
   },
   "source": [
    "## LTC"
   ]
  },
  {
   "cell_type": "code",
   "execution_count": 90,
   "metadata": {
    "colab": {
     "base_uri": "https://localhost:8080/",
     "height": 668
    },
    "id": "2NNs6wsGBixy",
    "outputId": "79eec670-ddd8-4e68-e52b-6c8da303a214"
   },
   "outputs": [
    {
     "name": "stdout",
     "output_type": "stream",
     "text": [
      "(490, 365, 1) (490, 7, 1) (211, 365, 1) (211, 7, 1)\n",
      "Model: \"sequential_16\"\n",
      "_________________________________________________________________\n",
      "Layer (type)                 Output Shape              Param #   \n",
      "=================================================================\n",
      "lstm_43 (LSTM)               (None, 365, 32)           4352      \n",
      "_________________________________________________________________\n",
      "lstm_44 (LSTM)               (None, 365, 32)           8320      \n",
      "_________________________________________________________________\n",
      "lstm_45 (LSTM)               (None, 7)                 1120      \n",
      "=================================================================\n",
      "Total params: 13,792\n",
      "Trainable params: 13,792\n",
      "Non-trainable params: 0\n",
      "_________________________________________________________________\n",
      "None\n"
     ]
    },
    {
     "data": {
      "image/png": "[encoded data removed]",
      "text/plain": [
       "<Figure size 576x432 with 1 Axes>"
      ]
     },
     "metadata": {
      "needs_background": "light"
     },
     "output_type": "display_data"
    }
   ],
   "source": [
    "lstm,scaler = train_lstm(ltc_df)"
   ]
  },
  {
   "cell_type": "code",
   "execution_count": 160,
   "metadata": {
    "colab": {
     "base_uri": "https://localhost:8080/",
     "height": 300
    },
    "id": "hJiO05fvCGg2",
    "outputId": "e07db645-9b02-4e72-fc0a-273bdf596884"
   },
   "outputs": [
    {
     "data": {
      "text/html": [
       "<div>\n",
       "<style scoped>\n",
       "    .dataframe tbody tr th:only-of-type {\n",
       "        vertical-align: middle;\n",
       "    }\n",
       "\n",
       "    .dataframe tbody tr th {\n",
       "        vertical-align: top;\n",
       "    }\n",
       "\n",
       "    .dataframe thead th {\n",
       "        text-align: right;\n",
       "    }\n",
       "</style>\n",
       "<table border=\"1\" class=\"dataframe\">\n",
       "  <thead>\n",
       "    <tr style=\"text-align: right;\">\n",
       "      <th></th>\n",
       "      <th>Close</th>\n",
       "    </tr>\n",
       "    <tr>\n",
       "      <th>date</th>\n",
       "      <th></th>\n",
       "    </tr>\n",
       "  </thead>\n",
       "  <tbody>\n",
       "    <tr>\n",
       "      <th>2021-09-22 04:00:00</th>\n",
       "      <td>197.866802</td>\n",
       "    </tr>\n",
       "    <tr>\n",
       "      <th>2021-09-23 04:00:00</th>\n",
       "      <td>181.589418</td>\n",
       "    </tr>\n",
       "    <tr>\n",
       "      <th>2021-09-24 04:00:00</th>\n",
       "      <td>184.557677</td>\n",
       "    </tr>\n",
       "    <tr>\n",
       "      <th>2021-09-25 04:00:00</th>\n",
       "      <td>187.523790</td>\n",
       "    </tr>\n",
       "    <tr>\n",
       "      <th>2021-09-26 04:00:00</th>\n",
       "      <td>201.813644</td>\n",
       "    </tr>\n",
       "    <tr>\n",
       "      <th>2021-09-27 04:00:00</th>\n",
       "      <td>188.327040</td>\n",
       "    </tr>\n",
       "    <tr>\n",
       "      <th>2021-09-28 04:00:00</th>\n",
       "      <td>194.328390</td>\n",
       "    </tr>\n",
       "  </tbody>\n",
       "</table>\n",
       "</div>"
      ],
      "text/plain": [
       "                          Close\n",
       "date                           \n",
       "2021-09-22 04:00:00  197.866802\n",
       "2021-09-23 04:00:00  181.589418\n",
       "2021-09-24 04:00:00  184.557677\n",
       "2021-09-25 04:00:00  187.523790\n",
       "2021-09-26 04:00:00  201.813644\n",
       "2021-09-27 04:00:00  188.327040\n",
       "2021-09-28 04:00:00  194.328390"
      ]
     },
     "execution_count": 160,
     "metadata": {},
     "output_type": "execute_result"
    }
   ],
   "source": [
    "pred =forecast_lstm(lstm,ltc_df,scaler) #monthly forecast\n",
    "pred"
   ]
  },
  {
   "cell_type": "code",
   "execution_count": 162,
   "metadata": {
    "colab": {
     "base_uri": "https://localhost:8080/",
     "height": 455
    },
    "id": "uAQpUpHXuXU5",
    "outputId": "ea34d73b-798d-4be4-b393-7480106af39a"
   },
   "outputs": [
    {
     "data": {
      "text/html": [
       "<div>\n",
       "<style scoped>\n",
       "    .dataframe tbody tr th:only-of-type {\n",
       "        vertical-align: middle;\n",
       "    }\n",
       "\n",
       "    .dataframe tbody tr th {\n",
       "        vertical-align: top;\n",
       "    }\n",
       "\n",
       "    .dataframe thead th {\n",
       "        text-align: right;\n",
       "    }\n",
       "</style>\n",
       "<table border=\"1\" class=\"dataframe\">\n",
       "  <thead>\n",
       "    <tr style=\"text-align: right;\">\n",
       "      <th></th>\n",
       "      <th>Unix Timestamp</th>\n",
       "      <th>Symbol</th>\n",
       "      <th>Open</th>\n",
       "      <th>High</th>\n",
       "      <th>Low</th>\n",
       "      <th>Close</th>\n",
       "      <th>Volume</th>\n",
       "    </tr>\n",
       "    <tr>\n",
       "      <th>Date</th>\n",
       "      <th></th>\n",
       "      <th></th>\n",
       "      <th></th>\n",
       "      <th></th>\n",
       "      <th></th>\n",
       "      <th></th>\n",
       "      <th></th>\n",
       "    </tr>\n",
       "  </thead>\n",
       "  <tbody>\n",
       "    <tr>\n",
       "      <th>2018-10-16 04:00:00</th>\n",
       "      <td>1539662400000</td>\n",
       "      <td>LTCUSD</td>\n",
       "      <td>0.00</td>\n",
       "      <td>55.20</td>\n",
       "      <td>0.00</td>\n",
       "      <td>52.92</td>\n",
       "      <td>5601.926989</td>\n",
       "    </tr>\n",
       "    <tr>\n",
       "      <th>2018-10-17 04:00:00</th>\n",
       "      <td>1539748800000</td>\n",
       "      <td>LTCUSD</td>\n",
       "      <td>52.92</td>\n",
       "      <td>54.50</td>\n",
       "      <td>52.43</td>\n",
       "      <td>53.52</td>\n",
       "      <td>4206.391895</td>\n",
       "    </tr>\n",
       "    <tr>\n",
       "      <th>2018-10-18 04:00:00</th>\n",
       "      <td>1539835200000</td>\n",
       "      <td>LTCUSD</td>\n",
       "      <td>53.52</td>\n",
       "      <td>53.87</td>\n",
       "      <td>51.25</td>\n",
       "      <td>51.88</td>\n",
       "      <td>3150.270139</td>\n",
       "    </tr>\n",
       "    <tr>\n",
       "      <th>2018-10-19 04:00:00</th>\n",
       "      <td>1539921600000</td>\n",
       "      <td>LTCUSD</td>\n",
       "      <td>51.88</td>\n",
       "      <td>51.88</td>\n",
       "      <td>51.88</td>\n",
       "      <td>51.88</td>\n",
       "      <td>0.000000</td>\n",
       "    </tr>\n",
       "    <tr>\n",
       "      <th>2018-10-20 04:00:00</th>\n",
       "      <td>1540008000000</td>\n",
       "      <td>LTCUSD</td>\n",
       "      <td>51.88</td>\n",
       "      <td>52.75</td>\n",
       "      <td>51.88</td>\n",
       "      <td>52.75</td>\n",
       "      <td>1.000000</td>\n",
       "    </tr>\n",
       "    <tr>\n",
       "      <th>...</th>\n",
       "      <td>...</td>\n",
       "      <td>...</td>\n",
       "      <td>...</td>\n",
       "      <td>...</td>\n",
       "      <td>...</td>\n",
       "      <td>...</td>\n",
       "      <td>...</td>\n",
       "    </tr>\n",
       "    <tr>\n",
       "      <th>2021-09-18 04:00:00</th>\n",
       "      <td>1631937600000</td>\n",
       "      <td>LTCUSD</td>\n",
       "      <td>182.08</td>\n",
       "      <td>185.74</td>\n",
       "      <td>178.43</td>\n",
       "      <td>179.44</td>\n",
       "      <td>21093.113429</td>\n",
       "    </tr>\n",
       "    <tr>\n",
       "      <th>2021-09-19 04:00:00</th>\n",
       "      <td>1632024000000</td>\n",
       "      <td>LTCUSD</td>\n",
       "      <td>179.44</td>\n",
       "      <td>181.60</td>\n",
       "      <td>163.50</td>\n",
       "      <td>167.01</td>\n",
       "      <td>31279.361709</td>\n",
       "    </tr>\n",
       "    <tr>\n",
       "      <th>2021-09-20 04:00:00</th>\n",
       "      <td>1632110400000</td>\n",
       "      <td>LTCUSD</td>\n",
       "      <td>167.01</td>\n",
       "      <td>168.18</td>\n",
       "      <td>150.22</td>\n",
       "      <td>159.47</td>\n",
       "      <td>86803.808889</td>\n",
       "    </tr>\n",
       "    <tr>\n",
       "      <th>2021-09-21 04:00:00</th>\n",
       "      <td>1632196800000</td>\n",
       "      <td>LTCUSD</td>\n",
       "      <td>159.47</td>\n",
       "      <td>162.20</td>\n",
       "      <td>144.62</td>\n",
       "      <td>151.48</td>\n",
       "      <td>46606.739750</td>\n",
       "    </tr>\n",
       "    <tr>\n",
       "      <th>2021-09-22 04:00:00</th>\n",
       "      <td>1632283200000</td>\n",
       "      <td>LTCUSD</td>\n",
       "      <td>151.48</td>\n",
       "      <td>161.85</td>\n",
       "      <td>151.48</td>\n",
       "      <td>160.38</td>\n",
       "      <td>12445.036347</td>\n",
       "    </tr>\n",
       "  </tbody>\n",
       "</table>\n",
       "<p>1073 rows × 7 columns</p>\n",
       "</div>"
      ],
      "text/plain": [
       "                     Unix Timestamp  Symbol  ...   Close        Volume\n",
       "Date                                         ...                      \n",
       "2018-10-16 04:00:00   1539662400000  LTCUSD  ...   52.92   5601.926989\n",
       "2018-10-17 04:00:00   1539748800000  LTCUSD  ...   53.52   4206.391895\n",
       "2018-10-18 04:00:00   1539835200000  LTCUSD  ...   51.88   3150.270139\n",
       "2018-10-19 04:00:00   1539921600000  LTCUSD  ...   51.88      0.000000\n",
       "2018-10-20 04:00:00   1540008000000  LTCUSD  ...   52.75      1.000000\n",
       "...                             ...     ...  ...     ...           ...\n",
       "2021-09-18 04:00:00   1631937600000  LTCUSD  ...  179.44  21093.113429\n",
       "2021-09-19 04:00:00   1632024000000  LTCUSD  ...  167.01  31279.361709\n",
       "2021-09-20 04:00:00   1632110400000  LTCUSD  ...  159.47  86803.808889\n",
       "2021-09-21 04:00:00   1632196800000  LTCUSD  ...  151.48  46606.739750\n",
       "2021-09-22 04:00:00   1632283200000  LTCUSD  ...  160.38  12445.036347\n",
       "\n",
       "[1073 rows x 7 columns]"
      ]
     },
     "execution_count": 162,
     "metadata": {},
     "output_type": "execute_result"
    }
   ],
   "source": [
    "ltc_df"
   ]
  },
  {
   "cell_type": "code",
   "execution_count": 163,
   "metadata": {
    "colab": {
     "base_uri": "https://localhost:8080/",
     "height": 304
    },
    "id": "7Y3oVM9aCGwO",
    "outputId": "0ea8cef2-e6d1-4d8c-c9ee-e7e3f5dab9ab"
   },
   "outputs": [
    {
     "data": {
      "text/plain": [
       "<matplotlib.axes._subplots.AxesSubplot at 0x7f294fb58cd0>"
      ]
     },
     "execution_count": 163,
     "metadata": {},
     "output_type": "execute_result"
    },
    {
     "data": {
      "image/png": "[encoded data removed]",
      "text/plain": [
       "<Figure size 432x288 with 1 Axes>"
      ]
     },
     "metadata": {
      "needs_background": "light"
     },
     "output_type": "display_data"
    }
   ],
   "source": [
    "pred.plot()"
   ]
  },
  {
   "cell_type": "markdown",
   "metadata": {
    "id": "TO2HMIbZJ2mh"
   },
   "source": [
    "## BTC"
   ]
  },
  {
   "cell_type": "code",
   "execution_count": null,
   "metadata": {
    "colab": {
     "base_uri": "https://localhost:8080/",
     "height": 455
    },
    "id": "bF4EiIx-J3Xg",
    "outputId": "de639723-fe4b-4596-c9a3-d9916878620f"
   },
   "outputs": [
    {
     "data": {
      "text/html": [
       "<div>\n",
       "<style scoped>\n",
       "    .dataframe tbody tr th:only-of-type {\n",
       "        vertical-align: middle;\n",
       "    }\n",
       "\n",
       "    .dataframe tbody tr th {\n",
       "        vertical-align: top;\n",
       "    }\n",
       "\n",
       "    .dataframe thead th {\n",
       "        text-align: right;\n",
       "    }\n",
       "</style>\n",
       "<table border=\"1\" class=\"dataframe\">\n",
       "  <thead>\n",
       "    <tr style=\"text-align: right;\">\n",
       "      <th></th>\n",
       "      <th>Unix Timestamp</th>\n",
       "      <th>Symbol</th>\n",
       "      <th>Open</th>\n",
       "      <th>High</th>\n",
       "      <th>Low</th>\n",
       "      <th>Close</th>\n",
       "      <th>Volume</th>\n",
       "    </tr>\n",
       "    <tr>\n",
       "      <th>Date</th>\n",
       "      <th></th>\n",
       "      <th></th>\n",
       "      <th></th>\n",
       "      <th></th>\n",
       "      <th></th>\n",
       "      <th></th>\n",
       "      <th></th>\n",
       "    </tr>\n",
       "  </thead>\n",
       "  <tbody>\n",
       "    <tr>\n",
       "      <th>2018-10-16 04:00:00</th>\n",
       "      <td>1539662400000</td>\n",
       "      <td>BTCUSD</td>\n",
       "      <td>6423.27</td>\n",
       "      <td>6489.99</td>\n",
       "      <td>6390.10</td>\n",
       "      <td>6444.08</td>\n",
       "      <td>2978.589591</td>\n",
       "    </tr>\n",
       "    <tr>\n",
       "      <th>2018-10-17 04:00:00</th>\n",
       "      <td>1539748800000</td>\n",
       "      <td>BTCUSD</td>\n",
       "      <td>6444.08</td>\n",
       "      <td>6487.77</td>\n",
       "      <td>6406.98</td>\n",
       "      <td>6459.26</td>\n",
       "      <td>1998.462064</td>\n",
       "    </tr>\n",
       "    <tr>\n",
       "      <th>2018-10-18 04:00:00</th>\n",
       "      <td>1539835200000</td>\n",
       "      <td>BTCUSD</td>\n",
       "      <td>6459.26</td>\n",
       "      <td>6459.64</td>\n",
       "      <td>6350.92</td>\n",
       "      <td>6383.39</td>\n",
       "      <td>4597.200330</td>\n",
       "    </tr>\n",
       "    <tr>\n",
       "      <th>2018-10-19 04:00:00</th>\n",
       "      <td>1539921600000</td>\n",
       "      <td>BTCUSD</td>\n",
       "      <td>6383.39</td>\n",
       "      <td>6383.39</td>\n",
       "      <td>6383.39</td>\n",
       "      <td>6383.39</td>\n",
       "      <td>0.000000</td>\n",
       "    </tr>\n",
       "    <tr>\n",
       "      <th>2018-10-20 04:00:00</th>\n",
       "      <td>1540008000000</td>\n",
       "      <td>BTCUSD</td>\n",
       "      <td>6383.39</td>\n",
       "      <td>6386.34</td>\n",
       "      <td>6382.00</td>\n",
       "      <td>6382.04</td>\n",
       "      <td>2.701644</td>\n",
       "    </tr>\n",
       "    <tr>\n",
       "      <th>...</th>\n",
       "      <td>...</td>\n",
       "      <td>...</td>\n",
       "      <td>...</td>\n",
       "      <td>...</td>\n",
       "      <td>...</td>\n",
       "      <td>...</td>\n",
       "      <td>...</td>\n",
       "    </tr>\n",
       "    <tr>\n",
       "      <th>2021-09-18 04:00:00</th>\n",
       "      <td>1631937600000</td>\n",
       "      <td>BTCUSD</td>\n",
       "      <td>47962.79</td>\n",
       "      <td>48808.97</td>\n",
       "      <td>47613.93</td>\n",
       "      <td>47854.23</td>\n",
       "      <td>671.356150</td>\n",
       "    </tr>\n",
       "    <tr>\n",
       "      <th>2021-09-19 04:00:00</th>\n",
       "      <td>1632024000000</td>\n",
       "      <td>BTCUSD</td>\n",
       "      <td>47854.23</td>\n",
       "      <td>48333.32</td>\n",
       "      <td>45175.20</td>\n",
       "      <td>45553.62</td>\n",
       "      <td>860.712331</td>\n",
       "    </tr>\n",
       "    <tr>\n",
       "      <th>2021-09-20 04:00:00</th>\n",
       "      <td>1632110400000</td>\n",
       "      <td>BTCUSD</td>\n",
       "      <td>45553.62</td>\n",
       "      <td>45837.90</td>\n",
       "      <td>40137.98</td>\n",
       "      <td>42688.03</td>\n",
       "      <td>4373.379477</td>\n",
       "    </tr>\n",
       "    <tr>\n",
       "      <th>2021-09-21 04:00:00</th>\n",
       "      <td>1632196800000</td>\n",
       "      <td>BTCUSD</td>\n",
       "      <td>42688.03</td>\n",
       "      <td>43655.53</td>\n",
       "      <td>39590.00</td>\n",
       "      <td>42089.88</td>\n",
       "      <td>2962.611037</td>\n",
       "    </tr>\n",
       "    <tr>\n",
       "      <th>2021-09-22 04:00:00</th>\n",
       "      <td>1632283200000</td>\n",
       "      <td>BTCUSD</td>\n",
       "      <td>42089.88</td>\n",
       "      <td>44047.48</td>\n",
       "      <td>41836.59</td>\n",
       "      <td>43559.58</td>\n",
       "      <td>1051.581492</td>\n",
       "    </tr>\n",
       "  </tbody>\n",
       "</table>\n",
       "<p>1073 rows × 7 columns</p>\n",
       "</div>"
      ],
      "text/plain": [
       "                     Unix Timestamp  Symbol  ...     Close       Volume\n",
       "Date                                         ...                       \n",
       "2018-10-16 04:00:00   1539662400000  BTCUSD  ...   6444.08  2978.589591\n",
       "2018-10-17 04:00:00   1539748800000  BTCUSD  ...   6459.26  1998.462064\n",
       "2018-10-18 04:00:00   1539835200000  BTCUSD  ...   6383.39  4597.200330\n",
       "2018-10-19 04:00:00   1539921600000  BTCUSD  ...   6383.39     0.000000\n",
       "2018-10-20 04:00:00   1540008000000  BTCUSD  ...   6382.04     2.701644\n",
       "...                             ...     ...  ...       ...          ...\n",
       "2021-09-18 04:00:00   1631937600000  BTCUSD  ...  47854.23   671.356150\n",
       "2021-09-19 04:00:00   1632024000000  BTCUSD  ...  45553.62   860.712331\n",
       "2021-09-20 04:00:00   1632110400000  BTCUSD  ...  42688.03  4373.379477\n",
       "2021-09-21 04:00:00   1632196800000  BTCUSD  ...  42089.88  2962.611037\n",
       "2021-09-22 04:00:00   1632283200000  BTCUSD  ...  43559.58  1051.581492\n",
       "\n",
       "[1073 rows x 7 columns]"
      ]
     },
     "execution_count": 153,
     "metadata": {},
     "output_type": "execute_result"
    }
   ],
   "source": [
    "btc_df"
   ]
  },
  {
   "cell_type": "code",
   "execution_count": 165,
   "metadata": {
    "colab": {
     "base_uri": "https://localhost:8080/",
     "height": 668
    },
    "id": "5I3ah5XxukLV",
    "outputId": "a9b69839-8449-4f39-c768-e435ae35f8ee"
   },
   "outputs": [
    {
     "name": "stdout",
     "output_type": "stream",
     "text": [
      "(490, 365, 1) (490, 7, 1) (211, 365, 1) (211, 7, 1)\n",
      "Model: \"sequential_17\"\n",
      "_________________________________________________________________\n",
      "Layer (type)                 Output Shape              Param #   \n",
      "=================================================================\n",
      "lstm_46 (LSTM)               (None, 365, 32)           4352      \n",
      "_________________________________________________________________\n",
      "lstm_47 (LSTM)               (None, 365, 32)           8320      \n",
      "_________________________________________________________________\n",
      "lstm_48 (LSTM)               (None, 7)                 1120      \n",
      "=================================================================\n",
      "Total params: 13,792\n",
      "Trainable params: 13,792\n",
      "Non-trainable params: 0\n",
      "_________________________________________________________________\n",
      "None\n"
     ]
    },
    {
     "data": {
      "image/png": "[encoded data removed]",
      "text/plain": [
       "<Figure size 576x432 with 1 Axes>"
      ]
     },
     "metadata": {
      "needs_background": "light"
     },
     "output_type": "display_data"
    }
   ],
   "source": [
    "lstm,scaler = train_lstm(btc_df)"
   ]
  },
  {
   "cell_type": "code",
   "execution_count": 166,
   "metadata": {
    "colab": {
     "base_uri": "https://localhost:8080/",
     "height": 300
    },
    "id": "jyfc9clTukLb",
    "outputId": "1a8c4ef9-b0cf-40bb-8d70-284b0dd98a36"
   },
   "outputs": [
    {
     "data": {
      "text/html": [
       "<div>\n",
       "<style scoped>\n",
       "    .dataframe tbody tr th:only-of-type {\n",
       "        vertical-align: middle;\n",
       "    }\n",
       "\n",
       "    .dataframe tbody tr th {\n",
       "        vertical-align: top;\n",
       "    }\n",
       "\n",
       "    .dataframe thead th {\n",
       "        text-align: right;\n",
       "    }\n",
       "</style>\n",
       "<table border=\"1\" class=\"dataframe\">\n",
       "  <thead>\n",
       "    <tr style=\"text-align: right;\">\n",
       "      <th></th>\n",
       "      <th>Close</th>\n",
       "    </tr>\n",
       "    <tr>\n",
       "      <th>date</th>\n",
       "      <th></th>\n",
       "    </tr>\n",
       "  </thead>\n",
       "  <tbody>\n",
       "    <tr>\n",
       "      <th>2021-09-22 04:00:00</th>\n",
       "      <td>39735.983647</td>\n",
       "    </tr>\n",
       "    <tr>\n",
       "      <th>2021-09-23 04:00:00</th>\n",
       "      <td>44281.703680</td>\n",
       "    </tr>\n",
       "    <tr>\n",
       "      <th>2021-09-24 04:00:00</th>\n",
       "      <td>42962.233211</td>\n",
       "    </tr>\n",
       "    <tr>\n",
       "      <th>2021-09-25 04:00:00</th>\n",
       "      <td>42832.084825</td>\n",
       "    </tr>\n",
       "    <tr>\n",
       "      <th>2021-09-26 04:00:00</th>\n",
       "      <td>42282.002196</td>\n",
       "    </tr>\n",
       "    <tr>\n",
       "      <th>2021-09-27 04:00:00</th>\n",
       "      <td>46258.577117</td>\n",
       "    </tr>\n",
       "    <tr>\n",
       "      <th>2021-09-28 04:00:00</th>\n",
       "      <td>47216.271970</td>\n",
       "    </tr>\n",
       "  </tbody>\n",
       "</table>\n",
       "</div>"
      ],
      "text/plain": [
       "                            Close\n",
       "date                             \n",
       "2021-09-22 04:00:00  39735.983647\n",
       "2021-09-23 04:00:00  44281.703680\n",
       "2021-09-24 04:00:00  42962.233211\n",
       "2021-09-25 04:00:00  42832.084825\n",
       "2021-09-26 04:00:00  42282.002196\n",
       "2021-09-27 04:00:00  46258.577117\n",
       "2021-09-28 04:00:00  47216.271970"
      ]
     },
     "execution_count": 166,
     "metadata": {},
     "output_type": "execute_result"
    }
   ],
   "source": [
    "pred =forecast_lstm(lstm,btc_df,scaler) #monthly forecast\n",
    "pred"
   ]
  },
  {
   "cell_type": "code",
   "execution_count": 167,
   "metadata": {
    "colab": {
     "base_uri": "https://localhost:8080/",
     "height": 302
    },
    "id": "0nw5MRClukLc",
    "outputId": "f8879baa-fab6-414e-b1ab-eec5976b32c7"
   },
   "outputs": [
    {
     "data": {
      "text/plain": [
       "<matplotlib.axes._subplots.AxesSubplot at 0x7f2954691e90>"
      ]
     },
     "execution_count": 167,
     "metadata": {},
     "output_type": "execute_result"
    },
    {
     "data": {
      "image/png": "[encoded data removed]",
      "text/plain": [
       "<Figure size 432x288 with 1 Axes>"
      ]
     },
     "metadata": {
      "needs_background": "light"
     },
     "output_type": "display_data"
    }
   ],
   "source": [
    "pred.plot()"
   ]
  },
  {
   "cell_type": "markdown",
   "metadata": {
    "id": "LfCIRkxmKIQ-"
   },
   "source": [
    "## ETH"
   ]
  },
  {
   "cell_type": "code",
   "execution_count": 168,
   "metadata": {
    "colab": {
     "base_uri": "https://localhost:8080/",
     "height": 668
    },
    "id": "nME1BNKXusPx",
    "outputId": "14933af1-8aba-42f3-8bb2-40fda7d797a1"
   },
   "outputs": [
    {
     "name": "stdout",
     "output_type": "stream",
     "text": [
      "(490, 365, 1) (490, 7, 1) (211, 365, 1) (211, 7, 1)\n",
      "Model: \"sequential_18\"\n",
      "_________________________________________________________________\n",
      "Layer (type)                 Output Shape              Param #   \n",
      "=================================================================\n",
      "lstm_49 (LSTM)               (None, 365, 32)           4352      \n",
      "_________________________________________________________________\n",
      "lstm_50 (LSTM)               (None, 365, 32)           8320      \n",
      "_________________________________________________________________\n",
      "lstm_51 (LSTM)               (None, 7)                 1120      \n",
      "=================================================================\n",
      "Total params: 13,792\n",
      "Trainable params: 13,792\n",
      "Non-trainable params: 0\n",
      "_________________________________________________________________\n",
      "None\n"
     ]
    },
    {
     "data": {
      "image/png": "[encoded data removed]",
      "text/plain": [
       "<Figure size 576x432 with 1 Axes>"
      ]
     },
     "metadata": {
      "needs_background": "light"
     },
     "output_type": "display_data"
    }
   ],
   "source": [
    "lstm,scaler = train_lstm(eth_df)"
   ]
  },
  {
   "cell_type": "code",
   "execution_count": 169,
   "metadata": {
    "colab": {
     "base_uri": "https://localhost:8080/",
     "height": 300
    },
    "id": "cTpdw6SousP3",
    "outputId": "18377b6b-0025-4ac3-f5e3-33642071f3c8"
   },
   "outputs": [
    {
     "data": {
      "text/html": [
       "<div>\n",
       "<style scoped>\n",
       "    .dataframe tbody tr th:only-of-type {\n",
       "        vertical-align: middle;\n",
       "    }\n",
       "\n",
       "    .dataframe tbody tr th {\n",
       "        vertical-align: top;\n",
       "    }\n",
       "\n",
       "    .dataframe thead th {\n",
       "        text-align: right;\n",
       "    }\n",
       "</style>\n",
       "<table border=\"1\" class=\"dataframe\">\n",
       "  <thead>\n",
       "    <tr style=\"text-align: right;\">\n",
       "      <th></th>\n",
       "      <th>Close</th>\n",
       "    </tr>\n",
       "    <tr>\n",
       "      <th>date</th>\n",
       "      <th></th>\n",
       "    </tr>\n",
       "  </thead>\n",
       "  <tbody>\n",
       "    <tr>\n",
       "      <th>2021-09-22 04:00:00</th>\n",
       "      <td>2271.831486</td>\n",
       "    </tr>\n",
       "    <tr>\n",
       "      <th>2021-09-23 04:00:00</th>\n",
       "      <td>2120.485124</td>\n",
       "    </tr>\n",
       "    <tr>\n",
       "      <th>2021-09-24 04:00:00</th>\n",
       "      <td>2613.633288</td>\n",
       "    </tr>\n",
       "    <tr>\n",
       "      <th>2021-09-25 04:00:00</th>\n",
       "      <td>2416.178804</td>\n",
       "    </tr>\n",
       "    <tr>\n",
       "      <th>2021-09-26 04:00:00</th>\n",
       "      <td>2862.039475</td>\n",
       "    </tr>\n",
       "    <tr>\n",
       "      <th>2021-09-27 04:00:00</th>\n",
       "      <td>2107.070892</td>\n",
       "    </tr>\n",
       "    <tr>\n",
       "      <th>2021-09-28 04:00:00</th>\n",
       "      <td>2309.690477</td>\n",
       "    </tr>\n",
       "  </tbody>\n",
       "</table>\n",
       "</div>"
      ],
      "text/plain": [
       "                           Close\n",
       "date                            \n",
       "2021-09-22 04:00:00  2271.831486\n",
       "2021-09-23 04:00:00  2120.485124\n",
       "2021-09-24 04:00:00  2613.633288\n",
       "2021-09-25 04:00:00  2416.178804\n",
       "2021-09-26 04:00:00  2862.039475\n",
       "2021-09-27 04:00:00  2107.070892\n",
       "2021-09-28 04:00:00  2309.690477"
      ]
     },
     "execution_count": 169,
     "metadata": {},
     "output_type": "execute_result"
    }
   ],
   "source": [
    "pred =forecast_lstm(lstm,eth_df,scaler) #monthly forecast\n",
    "pred"
   ]
  },
  {
   "cell_type": "code",
   "execution_count": 170,
   "metadata": {
    "colab": {
     "base_uri": "https://localhost:8080/",
     "height": 455
    },
    "id": "3tcPaGjUusP3",
    "outputId": "d4d2988f-5618-4710-df3b-be6469552d12"
   },
   "outputs": [
    {
     "data": {
      "text/html": [
       "<div>\n",
       "<style scoped>\n",
       "    .dataframe tbody tr th:only-of-type {\n",
       "        vertical-align: middle;\n",
       "    }\n",
       "\n",
       "    .dataframe tbody tr th {\n",
       "        vertical-align: top;\n",
       "    }\n",
       "\n",
       "    .dataframe thead th {\n",
       "        text-align: right;\n",
       "    }\n",
       "</style>\n",
       "<table border=\"1\" class=\"dataframe\">\n",
       "  <thead>\n",
       "    <tr style=\"text-align: right;\">\n",
       "      <th></th>\n",
       "      <th>Unix Timestamp</th>\n",
       "      <th>Symbol</th>\n",
       "      <th>Open</th>\n",
       "      <th>High</th>\n",
       "      <th>Low</th>\n",
       "      <th>Close</th>\n",
       "      <th>Volume</th>\n",
       "    </tr>\n",
       "    <tr>\n",
       "      <th>Date</th>\n",
       "      <th></th>\n",
       "      <th></th>\n",
       "      <th></th>\n",
       "      <th></th>\n",
       "      <th></th>\n",
       "      <th></th>\n",
       "      <th></th>\n",
       "    </tr>\n",
       "  </thead>\n",
       "  <tbody>\n",
       "    <tr>\n",
       "      <th>2018-10-16 04:00:00</th>\n",
       "      <td>1539662400000</td>\n",
       "      <td>ETHUSD</td>\n",
       "      <td>202.67</td>\n",
       "      <td>207.89</td>\n",
       "      <td>202.50</td>\n",
       "      <td>205.86</td>\n",
       "      <td>21165.529375</td>\n",
       "    </tr>\n",
       "    <tr>\n",
       "      <th>2018-10-17 04:00:00</th>\n",
       "      <td>1539748800000</td>\n",
       "      <td>ETHUSD</td>\n",
       "      <td>205.86</td>\n",
       "      <td>206.05</td>\n",
       "      <td>201.35</td>\n",
       "      <td>204.60</td>\n",
       "      <td>11431.196005</td>\n",
       "    </tr>\n",
       "    <tr>\n",
       "      <th>2018-10-18 04:00:00</th>\n",
       "      <td>1539835200000</td>\n",
       "      <td>ETHUSD</td>\n",
       "      <td>204.60</td>\n",
       "      <td>204.78</td>\n",
       "      <td>196.97</td>\n",
       "      <td>199.43</td>\n",
       "      <td>24540.877376</td>\n",
       "    </tr>\n",
       "    <tr>\n",
       "      <th>2018-10-19 04:00:00</th>\n",
       "      <td>1539921600000</td>\n",
       "      <td>ETHUSD</td>\n",
       "      <td>199.43</td>\n",
       "      <td>199.43</td>\n",
       "      <td>199.43</td>\n",
       "      <td>199.43</td>\n",
       "      <td>0.000000</td>\n",
       "    </tr>\n",
       "    <tr>\n",
       "      <th>2018-10-20 04:00:00</th>\n",
       "      <td>1540008000000</td>\n",
       "      <td>ETHUSD</td>\n",
       "      <td>199.43</td>\n",
       "      <td>200.73</td>\n",
       "      <td>199.43</td>\n",
       "      <td>200.73</td>\n",
       "      <td>4.687530</td>\n",
       "    </tr>\n",
       "    <tr>\n",
       "      <th>...</th>\n",
       "      <td>...</td>\n",
       "      <td>...</td>\n",
       "      <td>...</td>\n",
       "      <td>...</td>\n",
       "      <td>...</td>\n",
       "      <td>...</td>\n",
       "      <td>...</td>\n",
       "    </tr>\n",
       "    <tr>\n",
       "      <th>2021-09-18 04:00:00</th>\n",
       "      <td>1631937600000</td>\n",
       "      <td>ETHUSD</td>\n",
       "      <td>3452.36</td>\n",
       "      <td>3541.89</td>\n",
       "      <td>3374.61</td>\n",
       "      <td>3413.18</td>\n",
       "      <td>7627.867957</td>\n",
       "    </tr>\n",
       "    <tr>\n",
       "      <th>2021-09-19 04:00:00</th>\n",
       "      <td>1632024000000</td>\n",
       "      <td>ETHUSD</td>\n",
       "      <td>3413.18</td>\n",
       "      <td>3458.96</td>\n",
       "      <td>3157.41</td>\n",
       "      <td>3187.56</td>\n",
       "      <td>15668.045794</td>\n",
       "    </tr>\n",
       "    <tr>\n",
       "      <th>2021-09-20 04:00:00</th>\n",
       "      <td>1632110400000</td>\n",
       "      <td>ETHUSD</td>\n",
       "      <td>3187.56</td>\n",
       "      <td>3218.18</td>\n",
       "      <td>2807.97</td>\n",
       "      <td>2998.29</td>\n",
       "      <td>49242.010484</td>\n",
       "    </tr>\n",
       "    <tr>\n",
       "      <th>2021-09-21 04:00:00</th>\n",
       "      <td>1632196800000</td>\n",
       "      <td>ETHUSD</td>\n",
       "      <td>2998.29</td>\n",
       "      <td>3104.42</td>\n",
       "      <td>2650.85</td>\n",
       "      <td>2869.31</td>\n",
       "      <td>46289.916678</td>\n",
       "    </tr>\n",
       "    <tr>\n",
       "      <th>2021-09-22 04:00:00</th>\n",
       "      <td>1632283200000</td>\n",
       "      <td>ETHUSD</td>\n",
       "      <td>2869.31</td>\n",
       "      <td>3097.00</td>\n",
       "      <td>2869.31</td>\n",
       "      <td>3072.44</td>\n",
       "      <td>11106.197241</td>\n",
       "    </tr>\n",
       "  </tbody>\n",
       "</table>\n",
       "<p>1073 rows × 7 columns</p>\n",
       "</div>"
      ],
      "text/plain": [
       "                     Unix Timestamp  Symbol  ...    Close        Volume\n",
       "Date                                         ...                       \n",
       "2018-10-16 04:00:00   1539662400000  ETHUSD  ...   205.86  21165.529375\n",
       "2018-10-17 04:00:00   1539748800000  ETHUSD  ...   204.60  11431.196005\n",
       "2018-10-18 04:00:00   1539835200000  ETHUSD  ...   199.43  24540.877376\n",
       "2018-10-19 04:00:00   1539921600000  ETHUSD  ...   199.43      0.000000\n",
       "2018-10-20 04:00:00   1540008000000  ETHUSD  ...   200.73      4.687530\n",
       "...                             ...     ...  ...      ...           ...\n",
       "2021-09-18 04:00:00   1631937600000  ETHUSD  ...  3413.18   7627.867957\n",
       "2021-09-19 04:00:00   1632024000000  ETHUSD  ...  3187.56  15668.045794\n",
       "2021-09-20 04:00:00   1632110400000  ETHUSD  ...  2998.29  49242.010484\n",
       "2021-09-21 04:00:00   1632196800000  ETHUSD  ...  2869.31  46289.916678\n",
       "2021-09-22 04:00:00   1632283200000  ETHUSD  ...  3072.44  11106.197241\n",
       "\n",
       "[1073 rows x 7 columns]"
      ]
     },
     "execution_count": 170,
     "metadata": {},
     "output_type": "execute_result"
    }
   ],
   "source": [
    "eth_df"
   ]
  },
  {
   "cell_type": "code",
   "execution_count": 171,
   "metadata": {
    "colab": {
     "base_uri": "https://localhost:8080/",
     "height": 302
    },
    "id": "9aNe2XOgusP3",
    "outputId": "51ba649b-aafe-4f6b-ec71-5f2927d37b5b"
   },
   "outputs": [
    {
     "data": {
      "text/plain": [
       "<matplotlib.axes._subplots.AxesSubplot at 0x7f2954881c10>"
      ]
     },
     "execution_count": 171,
     "metadata": {},
     "output_type": "execute_result"
    },
    {
     "data": {
      "image/png": "[encoded data removed]",
      "text/plain": [
       "<Figure size 432x288 with 1 Axes>"
      ]
     },
     "metadata": {
      "needs_background": "light"
     },
     "output_type": "display_data"
    }
   ],
   "source": [
    "pred.plot()"
   ]
  }
 ],
 "metadata": {
  "colab": {
   "collapsed_sections": [],
   "name": "crypto_lstm.ipynb",
   "provenance": []
  },
  "kernelspec": {
   "display_name": "Python 3",
   "language": "python",
   "name": "python3"
  },
  "language_info": {
   "codemirror_mode": {
    "name": "ipython",
    "version": 3
   },
   "file_extension": ".py",
   "mimetype": "text/x-python",
   "name": "python",
   "nbconvert_exporter": "python",
   "pygments_lexer": "ipython3",
   "version": "3.8.5"
  }
 },
 "nbformat": 4,
 "nbformat_minor": 1
}
